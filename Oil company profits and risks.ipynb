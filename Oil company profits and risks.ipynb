{
 "cells": [
  {
   "cell_type": "markdown",
   "metadata": {},
   "source": [
    "# Выбор локации для скважины"
   ]
  },
  {
   "cell_type": "markdown",
   "metadata": {},
   "source": [
    "Допустим, вы работаете в добывающей компании «ГлавРосГосНефть». Нужно решить, где бурить новую скважину.\n",
    "\n",
    "Вам предоставлены пробы нефти в трёх регионах: в каждом 10 000 месторождений, где измерили качество нефти и объём её запасов. Постройте модель машинного обучения, которая поможет определить регион, где добыча принесёт наибольшую прибыль. Проанализируйте возможную прибыль и риски техникой *Bootstrap.*\n",
    "\n",
    "Шаги для выбора локации:\n",
    "\n",
    "- В избранном регионе ищут месторождения, для каждого определяют значения признаков;\n",
    "- Строят модель и оценивают объём запасов;\n",
    "- Выбирают месторождения с самым высокими оценками значений. Количество месторождений зависит от бюджета компании и стоимости разработки одной скважины;\n",
    "- Прибыль равна суммарной прибыли отобранных месторождений."
   ]
  },
  {
   "cell_type": "markdown",
   "metadata": {},
   "source": [
    "В рамках проекта я исследую месторождения нефти. Передо мной стоит задача найти лучшее месторождение, вероятность прибыли в котором будет выше остальных. Для этого мне предстоит строить модели линейной регрессии, а также использовать иные методы для предсказания результата и максимизации потенциальной прибыли. "
   ]
  },
  {
   "cell_type": "markdown",
   "metadata": {},
   "source": [
    "## Загрузка и подготовка данных"
   ]
  },
  {
   "cell_type": "code",
   "execution_count": 1,
   "metadata": {},
   "outputs": [
    {
     "name": "stdout",
     "output_type": "stream",
     "text": [
      "Requirement already satisfied: phik in /Users/yyuon/opt/anaconda3/lib/python3.9/site-packages (0.12.3)\n",
      "Requirement already satisfied: scipy>=1.5.2 in /Users/yyuon/opt/anaconda3/lib/python3.9/site-packages (from phik) (1.9.1)\n",
      "Requirement already satisfied: pandas>=0.25.1 in /Users/yyuon/opt/anaconda3/lib/python3.9/site-packages (from phik) (1.4.4)\n",
      "Requirement already satisfied: numpy>=1.18.0 in /Users/yyuon/opt/anaconda3/lib/python3.9/site-packages (from phik) (1.21.5)\n",
      "Requirement already satisfied: matplotlib>=2.2.3 in /Users/yyuon/opt/anaconda3/lib/python3.9/site-packages (from phik) (3.5.2)\n",
      "Requirement already satisfied: joblib>=0.14.1 in /Users/yyuon/opt/anaconda3/lib/python3.9/site-packages (from phik) (1.1.0)\n",
      "Requirement already satisfied: cycler>=0.10 in /Users/yyuon/opt/anaconda3/lib/python3.9/site-packages (from matplotlib>=2.2.3->phik) (0.11.0)\n",
      "Requirement already satisfied: fonttools>=4.22.0 in /Users/yyuon/opt/anaconda3/lib/python3.9/site-packages (from matplotlib>=2.2.3->phik) (4.25.0)\n",
      "Requirement already satisfied: pyparsing>=2.2.1 in /Users/yyuon/opt/anaconda3/lib/python3.9/site-packages (from matplotlib>=2.2.3->phik) (3.0.9)\n",
      "Requirement already satisfied: kiwisolver>=1.0.1 in /Users/yyuon/opt/anaconda3/lib/python3.9/site-packages (from matplotlib>=2.2.3->phik) (1.4.2)\n",
      "Requirement already satisfied: packaging>=20.0 in /Users/yyuon/opt/anaconda3/lib/python3.9/site-packages (from matplotlib>=2.2.3->phik) (21.3)\n",
      "Requirement already satisfied: pillow>=6.2.0 in /Users/yyuon/opt/anaconda3/lib/python3.9/site-packages (from matplotlib>=2.2.3->phik) (9.2.0)\n",
      "Requirement already satisfied: python-dateutil>=2.7 in /Users/yyuon/opt/anaconda3/lib/python3.9/site-packages (from matplotlib>=2.2.3->phik) (2.8.2)\n",
      "Requirement already satisfied: pytz>=2020.1 in /Users/yyuon/opt/anaconda3/lib/python3.9/site-packages (from pandas>=0.25.1->phik) (2022.1)\n",
      "Requirement already satisfied: six>=1.5 in /Users/yyuon/opt/anaconda3/lib/python3.9/site-packages (from python-dateutil>=2.7->matplotlib>=2.2.3->phik) (1.16.0)\n"
     ]
    },
    {
     "data": {
      "text/html": [
       "<style>.container { width:90% !important; }</style>"
      ],
      "text/plain": [
       "<IPython.core.display.HTML object>"
      ]
     },
     "metadata": {},
     "output_type": "display_data"
    }
   ],
   "source": [
    "import pandas as pd\n",
    "import seaborn as sns\n",
    "import numpy as np\n",
    "import warnings\n",
    "import matplotlib.pyplot as plt\n",
    "from sklearn.model_selection import train_test_split\n",
    "from sklearn.metrics import mean_squared_error\n",
    "from sklearn.metrics import accuracy_score\n",
    "from sklearn.datasets import make_classification\n",
    "from sklearn import preprocessing\n",
    "from sklearn import utils\n",
    "from sklearn.metrics import f1_score\n",
    "from sklearn.metrics import roc_auc_score\n",
    "from sklearn.metrics import roc_curve\n",
    "!pip install phik\n",
    "from sklearn.utils import shuffle\n",
    "import phik\n",
    "from phik.report import plot_correlation_matrix\n",
    "from phik import report\n",
    "from sklearn.preprocessing import StandardScaler\n",
    "from sklearn.preprocessing import OneHotEncoder\n",
    "from sklearn.preprocessing import OrdinalEncoder\n",
    "from sklearn.linear_model import LinearRegression\n",
    "from scipy import stats as st\n",
    "from sklearn.utils import resample\n",
    "from IPython.core.display import display, HTML\n",
    "display(HTML(\"<style>.container { width:90% !important; }</style>\"))\n",
    "import random"
   ]
  },
  {
   "cell_type": "code",
   "execution_count": 3,
   "metadata": {},
   "outputs": [
    {
     "data": {
      "text/html": [
       "<div>\n",
       "<style scoped>\n",
       "    .dataframe tbody tr th:only-of-type {\n",
       "        vertical-align: middle;\n",
       "    }\n",
       "\n",
       "    .dataframe tbody tr th {\n",
       "        vertical-align: top;\n",
       "    }\n",
       "\n",
       "    .dataframe thead th {\n",
       "        text-align: right;\n",
       "    }\n",
       "</style>\n",
       "<table border=\"1\" class=\"dataframe\">\n",
       "  <thead>\n",
       "    <tr style=\"text-align: right;\">\n",
       "      <th></th>\n",
       "      <th>id</th>\n",
       "      <th>f0</th>\n",
       "      <th>f1</th>\n",
       "      <th>f2</th>\n",
       "      <th>product</th>\n",
       "    </tr>\n",
       "  </thead>\n",
       "  <tbody>\n",
       "    <tr>\n",
       "      <th>38359</th>\n",
       "      <td>bCP23</td>\n",
       "      <td>1.889713</td>\n",
       "      <td>-0.185329</td>\n",
       "      <td>1.043781</td>\n",
       "      <td>79.216200</td>\n",
       "    </tr>\n",
       "    <tr>\n",
       "      <th>84566</th>\n",
       "      <td>sSXir</td>\n",
       "      <td>0.225669</td>\n",
       "      <td>1.047047</td>\n",
       "      <td>-1.537502</td>\n",
       "      <td>30.527584</td>\n",
       "    </tr>\n",
       "    <tr>\n",
       "      <th>46739</th>\n",
       "      <td>h1Aho</td>\n",
       "      <td>1.485535</td>\n",
       "      <td>-0.227568</td>\n",
       "      <td>9.704289</td>\n",
       "      <td>138.039593</td>\n",
       "    </tr>\n",
       "    <tr>\n",
       "      <th>43784</th>\n",
       "      <td>StCBx</td>\n",
       "      <td>0.290682</td>\n",
       "      <td>0.990295</td>\n",
       "      <td>3.814065</td>\n",
       "      <td>141.936431</td>\n",
       "    </tr>\n",
       "    <tr>\n",
       "      <th>25094</th>\n",
       "      <td>HDM0X</td>\n",
       "      <td>0.149577</td>\n",
       "      <td>1.013807</td>\n",
       "      <td>1.150723</td>\n",
       "      <td>41.376682</td>\n",
       "    </tr>\n",
       "  </tbody>\n",
       "</table>\n",
       "</div>"
      ],
      "text/plain": [
       "          id        f0        f1        f2     product\n",
       "38359  bCP23  1.889713 -0.185329  1.043781   79.216200\n",
       "84566  sSXir  0.225669  1.047047 -1.537502   30.527584\n",
       "46739  h1Aho  1.485535 -0.227568  9.704289  138.039593\n",
       "43784  StCBx  0.290682  0.990295  3.814065  141.936431\n",
       "25094  HDM0X  0.149577  1.013807  1.150723   41.376682"
      ]
     },
     "metadata": {},
     "output_type": "display_data"
    },
    {
     "data": {
      "text/html": [
       "<div>\n",
       "<style scoped>\n",
       "    .dataframe tbody tr th:only-of-type {\n",
       "        vertical-align: middle;\n",
       "    }\n",
       "\n",
       "    .dataframe tbody tr th {\n",
       "        vertical-align: top;\n",
       "    }\n",
       "\n",
       "    .dataframe thead th {\n",
       "        text-align: right;\n",
       "    }\n",
       "</style>\n",
       "<table border=\"1\" class=\"dataframe\">\n",
       "  <thead>\n",
       "    <tr style=\"text-align: right;\">\n",
       "      <th></th>\n",
       "      <th>id</th>\n",
       "      <th>f0</th>\n",
       "      <th>f1</th>\n",
       "      <th>f2</th>\n",
       "      <th>product</th>\n",
       "    </tr>\n",
       "  </thead>\n",
       "  <tbody>\n",
       "    <tr>\n",
       "      <th>11332</th>\n",
       "      <td>z1yGQ</td>\n",
       "      <td>3.627591</td>\n",
       "      <td>-2.950377</td>\n",
       "      <td>2.000484</td>\n",
       "      <td>53.906522</td>\n",
       "    </tr>\n",
       "    <tr>\n",
       "      <th>47792</th>\n",
       "      <td>hmpH9</td>\n",
       "      <td>-3.225782</td>\n",
       "      <td>-6.733122</td>\n",
       "      <td>1.004068</td>\n",
       "      <td>30.132364</td>\n",
       "    </tr>\n",
       "    <tr>\n",
       "      <th>35269</th>\n",
       "      <td>y4PbH</td>\n",
       "      <td>-5.066039</td>\n",
       "      <td>-11.998665</td>\n",
       "      <td>2.014730</td>\n",
       "      <td>57.085625</td>\n",
       "    </tr>\n",
       "    <tr>\n",
       "      <th>63330</th>\n",
       "      <td>B1RuH</td>\n",
       "      <td>8.896351</td>\n",
       "      <td>-0.742083</td>\n",
       "      <td>4.003318</td>\n",
       "      <td>107.813044</td>\n",
       "    </tr>\n",
       "    <tr>\n",
       "      <th>46257</th>\n",
       "      <td>DtFiu</td>\n",
       "      <td>14.341562</td>\n",
       "      <td>-2.163920</td>\n",
       "      <td>3.001264</td>\n",
       "      <td>80.859783</td>\n",
       "    </tr>\n",
       "  </tbody>\n",
       "</table>\n",
       "</div>"
      ],
      "text/plain": [
       "          id         f0         f1        f2     product\n",
       "11332  z1yGQ   3.627591  -2.950377  2.000484   53.906522\n",
       "47792  hmpH9  -3.225782  -6.733122  1.004068   30.132364\n",
       "35269  y4PbH  -5.066039 -11.998665  2.014730   57.085625\n",
       "63330  B1RuH   8.896351  -0.742083  4.003318  107.813044\n",
       "46257  DtFiu  14.341562  -2.163920  3.001264   80.859783"
      ]
     },
     "metadata": {},
     "output_type": "display_data"
    },
    {
     "data": {
      "text/html": [
       "<div>\n",
       "<style scoped>\n",
       "    .dataframe tbody tr th:only-of-type {\n",
       "        vertical-align: middle;\n",
       "    }\n",
       "\n",
       "    .dataframe tbody tr th {\n",
       "        vertical-align: top;\n",
       "    }\n",
       "\n",
       "    .dataframe thead th {\n",
       "        text-align: right;\n",
       "    }\n",
       "</style>\n",
       "<table border=\"1\" class=\"dataframe\">\n",
       "  <thead>\n",
       "    <tr style=\"text-align: right;\">\n",
       "      <th></th>\n",
       "      <th>id</th>\n",
       "      <th>f0</th>\n",
       "      <th>f1</th>\n",
       "      <th>f2</th>\n",
       "      <th>product</th>\n",
       "    </tr>\n",
       "  </thead>\n",
       "  <tbody>\n",
       "    <tr>\n",
       "      <th>80756</th>\n",
       "      <td>tVHGC</td>\n",
       "      <td>3.403742</td>\n",
       "      <td>1.391011</td>\n",
       "      <td>9.995557</td>\n",
       "      <td>158.644451</td>\n",
       "    </tr>\n",
       "    <tr>\n",
       "      <th>18055</th>\n",
       "      <td>Hm3eB</td>\n",
       "      <td>-0.484726</td>\n",
       "      <td>2.273583</td>\n",
       "      <td>4.155130</td>\n",
       "      <td>111.232748</td>\n",
       "    </tr>\n",
       "    <tr>\n",
       "      <th>33800</th>\n",
       "      <td>R2F00</td>\n",
       "      <td>-1.732737</td>\n",
       "      <td>0.360808</td>\n",
       "      <td>2.487267</td>\n",
       "      <td>29.662522</td>\n",
       "    </tr>\n",
       "    <tr>\n",
       "      <th>67208</th>\n",
       "      <td>tw3JZ</td>\n",
       "      <td>3.037952</td>\n",
       "      <td>-0.756916</td>\n",
       "      <td>5.589815</td>\n",
       "      <td>105.351481</td>\n",
       "    </tr>\n",
       "    <tr>\n",
       "      <th>37531</th>\n",
       "      <td>J6fpT</td>\n",
       "      <td>1.126733</td>\n",
       "      <td>-0.242567</td>\n",
       "      <td>8.983896</td>\n",
       "      <td>137.896023</td>\n",
       "    </tr>\n",
       "  </tbody>\n",
       "</table>\n",
       "</div>"
      ],
      "text/plain": [
       "          id        f0        f1        f2     product\n",
       "80756  tVHGC  3.403742  1.391011  9.995557  158.644451\n",
       "18055  Hm3eB -0.484726  2.273583  4.155130  111.232748\n",
       "33800  R2F00 -1.732737  0.360808  2.487267   29.662522\n",
       "67208  tw3JZ  3.037952 -0.756916  5.589815  105.351481\n",
       "37531  J6fpT  1.126733 -0.242567  8.983896  137.896023"
      ]
     },
     "metadata": {},
     "output_type": "display_data"
    }
   ],
   "source": [
    "df1 = pd.read_csv('geo_data_0.csv') \n",
    "df2 = pd.read_csv('geo_data_1.csv')\n",
    "df3 = pd.read_csv('geo_data_2.csv')\n",
    "display(df1.sample(5)) \n",
    "display(df2.sample(5))\n",
    "display(df3.sample(5))"
   ]
  },
  {
   "cell_type": "code",
   "execution_count": 4,
   "metadata": {},
   "outputs": [
    {
     "name": "stdout",
     "output_type": "stream",
     "text": [
      "<class 'pandas.core.frame.DataFrame'>\n",
      "RangeIndex: 100000 entries, 0 to 99999\n",
      "Data columns (total 5 columns):\n",
      " #   Column   Non-Null Count   Dtype  \n",
      "---  ------   --------------   -----  \n",
      " 0   id       100000 non-null  object \n",
      " 1   f0       100000 non-null  float64\n",
      " 2   f1       100000 non-null  float64\n",
      " 3   f2       100000 non-null  float64\n",
      " 4   product  100000 non-null  float64\n",
      "dtypes: float64(4), object(1)\n",
      "memory usage: 3.8+ MB\n",
      "<class 'pandas.core.frame.DataFrame'>\n",
      "RangeIndex: 100000 entries, 0 to 99999\n",
      "Data columns (total 5 columns):\n",
      " #   Column   Non-Null Count   Dtype  \n",
      "---  ------   --------------   -----  \n",
      " 0   id       100000 non-null  object \n",
      " 1   f0       100000 non-null  float64\n",
      " 2   f1       100000 non-null  float64\n",
      " 3   f2       100000 non-null  float64\n",
      " 4   product  100000 non-null  float64\n",
      "dtypes: float64(4), object(1)\n",
      "memory usage: 3.8+ MB\n",
      "<class 'pandas.core.frame.DataFrame'>\n",
      "RangeIndex: 100000 entries, 0 to 99999\n",
      "Data columns (total 5 columns):\n",
      " #   Column   Non-Null Count   Dtype  \n",
      "---  ------   --------------   -----  \n",
      " 0   id       100000 non-null  object \n",
      " 1   f0       100000 non-null  float64\n",
      " 2   f1       100000 non-null  float64\n",
      " 3   f2       100000 non-null  float64\n",
      " 4   product  100000 non-null  float64\n",
      "dtypes: float64(4), object(1)\n",
      "memory usage: 3.8+ MB\n"
     ]
    }
   ],
   "source": [
    "df1.info()\n",
    "df2.info() \n",
    "df3.info()"
   ]
  },
  {
   "cell_type": "code",
   "execution_count": 5,
   "metadata": {},
   "outputs": [
    {
     "data": {
      "text/plain": [
       "id         0\n",
       "f0         0\n",
       "f1         0\n",
       "f2         0\n",
       "product    0\n",
       "dtype: int64"
      ]
     },
     "metadata": {},
     "output_type": "display_data"
    },
    {
     "data": {
      "text/plain": [
       "id         0\n",
       "f0         0\n",
       "f1         0\n",
       "f2         0\n",
       "product    0\n",
       "dtype: int64"
      ]
     },
     "metadata": {},
     "output_type": "display_data"
    },
    {
     "data": {
      "text/plain": [
       "id         0\n",
       "f0         0\n",
       "f1         0\n",
       "f2         0\n",
       "product    0\n",
       "dtype: int64"
      ]
     },
     "metadata": {},
     "output_type": "display_data"
    }
   ],
   "source": [
    "display(df1.isna().sum())\n",
    "display(df2.isna().sum())\n",
    "display(df3.isna().sum())"
   ]
  },
  {
   "cell_type": "markdown",
   "metadata": {},
   "source": [
    "Проверяем датафреймы на признак пропусков. "
   ]
  },
  {
   "cell_type": "code",
   "execution_count": 6,
   "metadata": {},
   "outputs": [
    {
     "data": {
      "text/html": [
       "<style type=\"text/css\">\n",
       "#T_7d94c_row0_col0, #T_7d94c_row1_col1, #T_7d94c_row2_col2, #T_7d94c_row3_col3 {\n",
       "  background-color: #b40426;\n",
       "  color: #f1f1f1;\n",
       "}\n",
       "#T_7d94c_row0_col1, #T_7d94c_row0_col2, #T_7d94c_row1_col0, #T_7d94c_row1_col3 {\n",
       "  background-color: #3b4cc0;\n",
       "  color: #f1f1f1;\n",
       "}\n",
       "#T_7d94c_row0_col3 {\n",
       "  background-color: #98b9ff;\n",
       "  color: #000000;\n",
       "}\n",
       "#T_7d94c_row1_col2 {\n",
       "  background-color: #3c4ec2;\n",
       "  color: #f1f1f1;\n",
       "}\n",
       "#T_7d94c_row2_col0 {\n",
       "  background-color: #9fbfff;\n",
       "  color: #000000;\n",
       "}\n",
       "#T_7d94c_row2_col1 {\n",
       "  background-color: #a1c0ff;\n",
       "  color: #000000;\n",
       "}\n",
       "#T_7d94c_row2_col3 {\n",
       "  background-color: #edd2c3;\n",
       "  color: #000000;\n",
       "}\n",
       "#T_7d94c_row3_col0 {\n",
       "  background-color: #c1d4f4;\n",
       "  color: #000000;\n",
       "}\n",
       "#T_7d94c_row3_col1 {\n",
       "  background-color: #7295f4;\n",
       "  color: #f1f1f1;\n",
       "}\n",
       "#T_7d94c_row3_col2 {\n",
       "  background-color: #d9dce1;\n",
       "  color: #000000;\n",
       "}\n",
       "</style>\n",
       "<table id=\"T_7d94c\">\n",
       "  <thead>\n",
       "    <tr>\n",
       "      <th class=\"blank level0\" >&nbsp;</th>\n",
       "      <th id=\"T_7d94c_level0_col0\" class=\"col_heading level0 col0\" >f0</th>\n",
       "      <th id=\"T_7d94c_level0_col1\" class=\"col_heading level0 col1\" >f1</th>\n",
       "      <th id=\"T_7d94c_level0_col2\" class=\"col_heading level0 col2\" >f2</th>\n",
       "      <th id=\"T_7d94c_level0_col3\" class=\"col_heading level0 col3\" >product</th>\n",
       "    </tr>\n",
       "  </thead>\n",
       "  <tbody>\n",
       "    <tr>\n",
       "      <th id=\"T_7d94c_level0_row0\" class=\"row_heading level0 row0\" >f0</th>\n",
       "      <td id=\"T_7d94c_row0_col0\" class=\"data row0 col0\" >1.000000</td>\n",
       "      <td id=\"T_7d94c_row0_col1\" class=\"data row0 col1\" >-0.440723</td>\n",
       "      <td id=\"T_7d94c_row0_col2\" class=\"data row0 col2\" >-0.003153</td>\n",
       "      <td id=\"T_7d94c_row0_col3\" class=\"data row0 col3\" >0.143536</td>\n",
       "    </tr>\n",
       "    <tr>\n",
       "      <th id=\"T_7d94c_level0_row1\" class=\"row_heading level0 row1\" >f1</th>\n",
       "      <td id=\"T_7d94c_row1_col0\" class=\"data row1 col0\" >-0.440723</td>\n",
       "      <td id=\"T_7d94c_row1_col1\" class=\"data row1 col1\" >1.000000</td>\n",
       "      <td id=\"T_7d94c_row1_col2\" class=\"data row1 col2\" >0.001724</td>\n",
       "      <td id=\"T_7d94c_row1_col3\" class=\"data row1 col3\" >-0.192356</td>\n",
       "    </tr>\n",
       "    <tr>\n",
       "      <th id=\"T_7d94c_level0_row2\" class=\"row_heading level0 row2\" >f2</th>\n",
       "      <td id=\"T_7d94c_row2_col0\" class=\"data row2 col0\" >-0.003153</td>\n",
       "      <td id=\"T_7d94c_row2_col1\" class=\"data row2 col1\" >0.001724</td>\n",
       "      <td id=\"T_7d94c_row2_col2\" class=\"data row2 col2\" >1.000000</td>\n",
       "      <td id=\"T_7d94c_row2_col3\" class=\"data row2 col3\" >0.483663</td>\n",
       "    </tr>\n",
       "    <tr>\n",
       "      <th id=\"T_7d94c_level0_row3\" class=\"row_heading level0 row3\" >product</th>\n",
       "      <td id=\"T_7d94c_row3_col0\" class=\"data row3 col0\" >0.143536</td>\n",
       "      <td id=\"T_7d94c_row3_col1\" class=\"data row3 col1\" >-0.192356</td>\n",
       "      <td id=\"T_7d94c_row3_col2\" class=\"data row3 col2\" >0.483663</td>\n",
       "      <td id=\"T_7d94c_row3_col3\" class=\"data row3 col3\" >1.000000</td>\n",
       "    </tr>\n",
       "  </tbody>\n",
       "</table>\n"
      ],
      "text/plain": [
       "<pandas.io.formats.style.Styler at 0x7f920452af40>"
      ]
     },
     "execution_count": 6,
     "metadata": {},
     "output_type": "execute_result"
    }
   ],
   "source": [
    "corr1 = df1.corr()\n",
    "corr1.style.background_gradient(cmap='coolwarm')"
   ]
  },
  {
   "cell_type": "code",
   "execution_count": 7,
   "metadata": {},
   "outputs": [
    {
     "data": {
      "text/html": [
       "<style type=\"text/css\">\n",
       "#T_83f24_row0_col0, #T_83f24_row1_col1, #T_83f24_row2_col2, #T_83f24_row2_col3, #T_83f24_row3_col2, #T_83f24_row3_col3 {\n",
       "  background-color: #b40426;\n",
       "  color: #f1f1f1;\n",
       "}\n",
       "#T_83f24_row0_col1 {\n",
       "  background-color: #779af7;\n",
       "  color: #f1f1f1;\n",
       "}\n",
       "#T_83f24_row0_col2, #T_83f24_row0_col3, #T_83f24_row1_col2, #T_83f24_row3_col0, #T_83f24_row3_col1 {\n",
       "  background-color: #3b4cc0;\n",
       "  color: #f1f1f1;\n",
       "}\n",
       "#T_83f24_row1_col0 {\n",
       "  background-color: #7da0f9;\n",
       "  color: #f1f1f1;\n",
       "}\n",
       "#T_83f24_row1_col3 {\n",
       "  background-color: #4055c8;\n",
       "  color: #f1f1f1;\n",
       "}\n",
       "#T_83f24_row2_col0 {\n",
       "  background-color: #4358cb;\n",
       "  color: #f1f1f1;\n",
       "}\n",
       "#T_83f24_row2_col1 {\n",
       "  background-color: #3c4ec2;\n",
       "  color: #f1f1f1;\n",
       "}\n",
       "</style>\n",
       "<table id=\"T_83f24\">\n",
       "  <thead>\n",
       "    <tr>\n",
       "      <th class=\"blank level0\" >&nbsp;</th>\n",
       "      <th id=\"T_83f24_level0_col0\" class=\"col_heading level0 col0\" >f0</th>\n",
       "      <th id=\"T_83f24_level0_col1\" class=\"col_heading level0 col1\" >f1</th>\n",
       "      <th id=\"T_83f24_level0_col2\" class=\"col_heading level0 col2\" >f2</th>\n",
       "      <th id=\"T_83f24_level0_col3\" class=\"col_heading level0 col3\" >product</th>\n",
       "    </tr>\n",
       "  </thead>\n",
       "  <tbody>\n",
       "    <tr>\n",
       "      <th id=\"T_83f24_level0_row0\" class=\"row_heading level0 row0\" >f0</th>\n",
       "      <td id=\"T_83f24_row0_col0\" class=\"data row0 col0\" >1.000000</td>\n",
       "      <td id=\"T_83f24_row0_col1\" class=\"data row0 col1\" >0.182287</td>\n",
       "      <td id=\"T_83f24_row0_col2\" class=\"data row0 col2\" >-0.001777</td>\n",
       "      <td id=\"T_83f24_row0_col3\" class=\"data row0 col3\" >-0.030491</td>\n",
       "    </tr>\n",
       "    <tr>\n",
       "      <th id=\"T_83f24_level0_row1\" class=\"row_heading level0 row1\" >f1</th>\n",
       "      <td id=\"T_83f24_row1_col0\" class=\"data row1 col0\" >0.182287</td>\n",
       "      <td id=\"T_83f24_row1_col1\" class=\"data row1 col1\" >1.000000</td>\n",
       "      <td id=\"T_83f24_row1_col2\" class=\"data row1 col2\" >-0.002595</td>\n",
       "      <td id=\"T_83f24_row1_col3\" class=\"data row1 col3\" >-0.010155</td>\n",
       "    </tr>\n",
       "    <tr>\n",
       "      <th id=\"T_83f24_level0_row2\" class=\"row_heading level0 row2\" >f2</th>\n",
       "      <td id=\"T_83f24_row2_col0\" class=\"data row2 col0\" >-0.001777</td>\n",
       "      <td id=\"T_83f24_row2_col1\" class=\"data row2 col1\" >-0.002595</td>\n",
       "      <td id=\"T_83f24_row2_col2\" class=\"data row2 col2\" >1.000000</td>\n",
       "      <td id=\"T_83f24_row2_col3\" class=\"data row2 col3\" >0.999397</td>\n",
       "    </tr>\n",
       "    <tr>\n",
       "      <th id=\"T_83f24_level0_row3\" class=\"row_heading level0 row3\" >product</th>\n",
       "      <td id=\"T_83f24_row3_col0\" class=\"data row3 col0\" >-0.030491</td>\n",
       "      <td id=\"T_83f24_row3_col1\" class=\"data row3 col1\" >-0.010155</td>\n",
       "      <td id=\"T_83f24_row3_col2\" class=\"data row3 col2\" >0.999397</td>\n",
       "      <td id=\"T_83f24_row3_col3\" class=\"data row3 col3\" >1.000000</td>\n",
       "    </tr>\n",
       "  </tbody>\n",
       "</table>\n"
      ],
      "text/plain": [
       "<pandas.io.formats.style.Styler at 0x7f91e063caf0>"
      ]
     },
     "execution_count": 7,
     "metadata": {},
     "output_type": "execute_result"
    }
   ],
   "source": [
    "corr2 = df2.corr()\n",
    "corr2.style.background_gradient(cmap='coolwarm')"
   ]
  },
  {
   "cell_type": "markdown",
   "metadata": {},
   "source": [
    "На выводе матрицы корреляций видно, что признак f2 сильно коррелирует с переменной product. Это говорит о том, что может возникнуть проблема мультиколлинеарности. Поскольку такая проблема встречается только в одном из датафреймов, столбец останется без изменений. "
   ]
  },
  {
   "cell_type": "code",
   "execution_count": 8,
   "metadata": {},
   "outputs": [
    {
     "data": {
      "text/html": [
       "<style type=\"text/css\">\n",
       "#T_76525_row0_col0, #T_76525_row1_col1, #T_76525_row2_col2, #T_76525_row3_col3 {\n",
       "  background-color: #b40426;\n",
       "  color: #f1f1f1;\n",
       "}\n",
       "#T_76525_row0_col1, #T_76525_row0_col2, #T_76525_row0_col3, #T_76525_row1_col0, #T_76525_row1_col2, #T_76525_row1_col3, #T_76525_row2_col0, #T_76525_row2_col1, #T_76525_row3_col0, #T_76525_row3_col1 {\n",
       "  background-color: #3b4cc0;\n",
       "  color: #f1f1f1;\n",
       "}\n",
       "#T_76525_row2_col3, #T_76525_row3_col2 {\n",
       "  background-color: #cedaeb;\n",
       "  color: #000000;\n",
       "}\n",
       "</style>\n",
       "<table id=\"T_76525\">\n",
       "  <thead>\n",
       "    <tr>\n",
       "      <th class=\"blank level0\" >&nbsp;</th>\n",
       "      <th id=\"T_76525_level0_col0\" class=\"col_heading level0 col0\" >f0</th>\n",
       "      <th id=\"T_76525_level0_col1\" class=\"col_heading level0 col1\" >f1</th>\n",
       "      <th id=\"T_76525_level0_col2\" class=\"col_heading level0 col2\" >f2</th>\n",
       "      <th id=\"T_76525_level0_col3\" class=\"col_heading level0 col3\" >product</th>\n",
       "    </tr>\n",
       "  </thead>\n",
       "  <tbody>\n",
       "    <tr>\n",
       "      <th id=\"T_76525_level0_row0\" class=\"row_heading level0 row0\" >f0</th>\n",
       "      <td id=\"T_76525_row0_col0\" class=\"data row0 col0\" >1.000000</td>\n",
       "      <td id=\"T_76525_row0_col1\" class=\"data row0 col1\" >0.000528</td>\n",
       "      <td id=\"T_76525_row0_col2\" class=\"data row0 col2\" >-0.000448</td>\n",
       "      <td id=\"T_76525_row0_col3\" class=\"data row0 col3\" >-0.001987</td>\n",
       "    </tr>\n",
       "    <tr>\n",
       "      <th id=\"T_76525_level0_row1\" class=\"row_heading level0 row1\" >f1</th>\n",
       "      <td id=\"T_76525_row1_col0\" class=\"data row1 col0\" >0.000528</td>\n",
       "      <td id=\"T_76525_row1_col1\" class=\"data row1 col1\" >1.000000</td>\n",
       "      <td id=\"T_76525_row1_col2\" class=\"data row1 col2\" >0.000779</td>\n",
       "      <td id=\"T_76525_row1_col3\" class=\"data row1 col3\" >-0.001012</td>\n",
       "    </tr>\n",
       "    <tr>\n",
       "      <th id=\"T_76525_level0_row2\" class=\"row_heading level0 row2\" >f2</th>\n",
       "      <td id=\"T_76525_row2_col0\" class=\"data row2 col0\" >-0.000448</td>\n",
       "      <td id=\"T_76525_row2_col1\" class=\"data row2 col1\" >0.000779</td>\n",
       "      <td id=\"T_76525_row2_col2\" class=\"data row2 col2\" >1.000000</td>\n",
       "      <td id=\"T_76525_row2_col3\" class=\"data row2 col3\" >0.445871</td>\n",
       "    </tr>\n",
       "    <tr>\n",
       "      <th id=\"T_76525_level0_row3\" class=\"row_heading level0 row3\" >product</th>\n",
       "      <td id=\"T_76525_row3_col0\" class=\"data row3 col0\" >-0.001987</td>\n",
       "      <td id=\"T_76525_row3_col1\" class=\"data row3 col1\" >-0.001012</td>\n",
       "      <td id=\"T_76525_row3_col2\" class=\"data row3 col2\" >0.445871</td>\n",
       "      <td id=\"T_76525_row3_col3\" class=\"data row3 col3\" >1.000000</td>\n",
       "    </tr>\n",
       "  </tbody>\n",
       "</table>\n"
      ],
      "text/plain": [
       "<pandas.io.formats.style.Styler at 0x7f91f062ed00>"
      ]
     },
     "execution_count": 8,
     "metadata": {},
     "output_type": "execute_result"
    }
   ],
   "source": [
    "corr3 = df3.corr() \n",
    "corr3.style.background_gradient(cmap='coolwarm')"
   ]
  },
  {
   "cell_type": "markdown",
   "metadata": {},
   "source": [
    "## Обучение и проверка модели"
   ]
  },
  {
   "cell_type": "code",
   "execution_count": 9,
   "metadata": {},
   "outputs": [],
   "source": [
    "warnings.filterwarnings('ignore')\n",
    "\n",
    "features1 = df1.drop(['product'], axis=1)\n",
    "target1 = df1['product']\n",
    "features1 = features1.drop(columns='id') \n",
    "\n",
    "features2 = df2.drop(['product'], axis=1)\n",
    "target2 = df2['product']\n",
    "features2 = features2.drop(columns='id') \n",
    "\n",
    "features3 = df3.drop(['product'], axis=1)\n",
    "target3 = df3['product']\n",
    "features3 = features3.drop(columns='id') \n",
    "\n",
    "features_train1, features_valid1, target_train1, target_valid1 = train_test_split(\n",
    "    features1 , target1, test_size=0.25, random_state=12345)\n",
    "\n",
    "features_train2, features_valid2, target_train2, target_valid2 = train_test_split(\n",
    "    features2 , target2, test_size=0.25, random_state=12345)\n",
    "\n",
    "features_train3, features_valid3, target_train3, target_valid3 = train_test_split(\n",
    "    features3 , target3, test_size=0.25, random_state=12345)\n",
    "\n"
   ]
  },
  {
   "cell_type": "markdown",
   "metadata": {},
   "source": [
    "Создадим features и target согласно заданию. "
   ]
  },
  {
   "cell_type": "code",
   "execution_count": 10,
   "metadata": {},
   "outputs": [
    {
     "name": "stdout",
     "output_type": "stream",
     "text": [
      "Оценка модели равна: 0.27994321524487786\n",
      "Средний запас равен: 92.59256778438035\n",
      "RMSE равно: 37.5794217150813\n"
     ]
    }
   ],
   "source": [
    "model1 = LinearRegression(n_jobs=1000)\n",
    "model1.fit(features_train1, target_train1)\n",
    "predictions1 = model1.predict(features_valid1) \n",
    "score = model1.score(features_valid1, target_valid1)\n",
    "rmse = (mean_squared_error(target_valid1, predictions1)) ** 0.5\n",
    "print('Оценка модели равна:', score)\n",
    "print('Средний запас равен:', predictions1.mean())\n",
    "print('RMSE равно:', rmse)\n"
   ]
  },
  {
   "cell_type": "markdown",
   "metadata": {},
   "source": [
    "Проверим модель на выборке первого региона. "
   ]
  },
  {
   "cell_type": "code",
   "execution_count": 11,
   "metadata": {},
   "outputs": [
    {
     "name": "stdout",
     "output_type": "stream",
     "text": [
      "Оценка модели равна: 0.9996233978805127\n",
      "Средний запас равен: 68.728546895446\n",
      "RMSE равно: 0.8930992867756182\n"
     ]
    }
   ],
   "source": [
    "model2 = LinearRegression(n_jobs=1000)\n",
    "model2.fit(features_train2, target_train2)\n",
    "predictions2 = model2.predict(features_valid2) \n",
    "score = model2.score(features_valid2, target_valid2)\n",
    "rmse = (mean_squared_error(target_valid2, predictions2)) ** 0.5\n",
    "print('Оценка модели равна:', score)\n",
    "print('Средний запас равен:', predictions2.mean())\n",
    "print('RMSE равно:', rmse)\n"
   ]
  },
  {
   "cell_type": "markdown",
   "metadata": {},
   "source": [
    "На выборке второго региона"
   ]
  },
  {
   "cell_type": "code",
   "execution_count": 12,
   "metadata": {},
   "outputs": [
    {
     "name": "stdout",
     "output_type": "stream",
     "text": [
      "Оценка модели равна: 0.20524758386040465\n",
      "Средний запас равен: 94.96504596800489\n",
      "RMSE равно: 40.02970873393434\n"
     ]
    }
   ],
   "source": [
    "model3 = LinearRegression()\n",
    "model3.fit(features_train3, target_train3)\n",
    "predictions3 = model3.predict(features_valid3) \n",
    "score = model3.score(features_valid3, target_valid3)\n",
    "rmse = (mean_squared_error(target_valid3, predictions3)) ** 0.5\n",
    "print('Оценка модели равна:', score)\n",
    "print('Средний запас равен:', predictions3.mean())\n",
    "print('RMSE равно:', rmse)"
   ]
  },
  {
   "cell_type": "markdown",
   "metadata": {},
   "source": [
    "И на выборке третьего региона. "
   ]
  },
  {
   "cell_type": "markdown",
   "metadata": {},
   "source": [
    "Таким образом можно заметить, что самый воский коэффициент точности у второй модели -- 0.99, а самый низкий -- у третьей, 0.2. Таким образом можно сказать, что в среднем запасы скважин в регионах равны 92, 68, 94 соответственно. Но при наименьшем RMSE средние запасы у второго региона составляют 68 единиц. Таким образом надо выбрать регион, в котором средние запасы выше, чтобы максимизировать вероятность прибыли и минимизировать риски. "
   ]
  },
  {
   "cell_type": "markdown",
   "metadata": {},
   "source": [
    "## Подготовка к расчёту прибыли"
   ]
  },
  {
   "cell_type": "code",
   "execution_count": 13,
   "metadata": {},
   "outputs": [
    {
     "name": "stdout",
     "output_type": "stream",
     "text": [
      "Минимальные запасы для безубыточной разработки: 111.11111111111111\n"
     ]
    }
   ],
   "source": [
    "BUDGET = 10000000000\n",
    "PROFIT_PER_BAR = 450000\n",
    "min_profit = (BUDGET / PROFIT_PER_BAR) / 200\n",
    "print('Минимальные запасы для безубыточной разработки:', min_profit)"
   ]
  },
  {
   "cell_type": "markdown",
   "metadata": {},
   "source": [
    "Таким образом можно сказать, что при значениях, показанных моделью, бизнес не будет окупаться, потому что минимальное количество запасов будет меньше точки безубыточности. "
   ]
  },
  {
   "cell_type": "markdown",
   "metadata": {},
   "source": [
    "Подготовим переменные для того, чтобы использовать их в дальнейшем расчете. \n",
    "Также стоит учитывать, что каждая единица продукции будет стоить 450 000 руб., это будет использования в расчетах далее. "
   ]
  },
  {
   "cell_type": "markdown",
   "metadata": {},
   "source": [
    "## Расчёт прибыли и рисков "
   ]
  },
  {
   "cell_type": "code",
   "execution_count": 14,
   "metadata": {},
   "outputs": [],
   "source": [
    "target_valid1 = target_valid1.set_axis(range(1, 25001))\n",
    "target_valid2 = target_valid2.set_axis(range(1, 25001))\n",
    "target_valid3 = target_valid3.set_axis(range(1, 25001))\n",
    "\n",
    "predictions1 = pd.Series(predictions1)\n",
    "predictions2 = pd.Series(predictions2)\n",
    "predictions3 = pd.Series(predictions3)\n",
    "\n",
    "predictions1 = predictions1.set_axis(range(1, 25001))\n",
    "predictions2 = predictions2.set_axis(range(1, 25001))\n",
    "predictions3 = predictions3.set_axis(range(1, 25001))"
   ]
  },
  {
   "cell_type": "code",
   "execution_count": 19,
   "metadata": {},
   "outputs": [
    {
     "name": "stdout",
     "output_type": "stream",
     "text": [
      "Средняя прибыль: 425938526.91059244\n",
      "Нижняя граница: -102090094.83793654\n",
      "Верхняя граница: 947976353.3583689\n",
      "\n",
      "Средняя прибыль: 518259493.6973249\n",
      "Нижняя граница: 128123231.43308444\n",
      "Верхняя граница: 953612982.0669085\n",
      "\n",
      "Средняя прибыль: 420194005.3440501\n",
      "Нижняя граница: -115852609.16001143\n",
      "Верхняя граница: 989629939.8445739\n",
      "\n"
     ]
    }
   ],
   "source": [
    "def profit(target, predictions):\n",
    "    probs_sorted = predictions.sort_values(ascending=False)\n",
    "    selected_df = target[probs_sorted.index][:200]\n",
    "    total_profit = 450000 * selected_df.sum() - BUDGET\n",
    "    return total_profit\n",
    "\n",
    "state = np.random.RandomState(12345)\n",
    "\n",
    "#target_valid1 = pd.Series(target_valid1)\n",
    "#target_valid1 = pd.Series(target_valid1)\n",
    "#target_valid1 = pd.Series(target_valid1)\n",
    "\n",
    "predictions1 = pd.Series(predictions1)\n",
    "predictions2 = pd.Series(predictions2)\n",
    "predictions3 = pd.Series(predictions3)\n",
    "\n",
    "values1 = [] \n",
    "for i in range(1000):\n",
    "    target_subsample1 = target_valid1.sample(n=500, replace=True, random_state=state) \n",
    "    probs_subsample1 = predictions1[target_subsample1.index]\n",
    "    values1.append(profit(target_subsample1, probs_subsample1))\n",
    "    #print(target_subsample1)\n",
    "\n",
    "values2 = [] \n",
    "for i in range(1000):\n",
    "    target_subsample2 = target_valid2.sample(n=500, replace=True, random_state=state) \n",
    "    probs_subsample2 = predictions2[target_subsample2.index]\n",
    "    values2.append(profit(target_subsample2, probs_subsample2))\n",
    "    \n",
    "values3 = [] \n",
    "for i in range(1000):\n",
    "    target_subsample3 = target_valid3.sample(n=500, replace=True, random_state=state) \n",
    "    probs_subsample3 = predictions3[target_subsample3.index]\n",
    "    values3.append(profit(target_subsample3, probs_subsample3))    \n",
    "    \n",
    "    \n",
    "mean_profit1 = np.mean(values1 )\n",
    "lower_bound1 = np.quantile(values1, 0.025)\n",
    "upper_bound1 = np.quantile(values1, 0.975)\n",
    "\n",
    "print(\"Средняя прибыль:\", mean_profit1)\n",
    "print(\"Нижняя граница:\", lower_bound1)\n",
    "print(\"Верхняя граница:\", upper_bound1)\n",
    "print()\n",
    "\n",
    "mean_profit2 = np.mean(values2)\n",
    "lower_bound2 = np.quantile(values2, 0.025)\n",
    "upper_bound2 = np.quantile(values2, 0.975)\n",
    "\n",
    "print(\"Средняя прибыль:\", mean_profit2)\n",
    "print(\"Нижняя граница:\", lower_bound2)\n",
    "print(\"Верхняя граница:\", upper_bound2)\n",
    "print()\n",
    "\n",
    "mean_profit3 = np.mean(values3)\n",
    "lower_bound3 = np.quantile(values3, 0.025)\n",
    "upper_bound3 = np.quantile(values3, 0.975)\n",
    "\n",
    "print(\"Средняя прибыль:\", mean_profit3)\n",
    "print(\"Нижняя граница:\", lower_bound3)\n",
    "print(\"Верхняя граница:\", upper_bound3)\n",
    "print()"
   ]
  },
  {
   "cell_type": "code",
   "execution_count": 20,
   "metadata": {
    "scrolled": false
   },
   "outputs": [
    {
     "name": "stdout",
     "output_type": "stream",
     "text": [
      "Риск получить отрицательную прибыль для региона 1: 0.06\n",
      "Риск получить отрицательную прибыль для региона 2: 0.003\n",
      "Риск получить отрицательную прибыль для региона 3: 0.062\n"
     ]
    }
   ],
   "source": [
    "loss_cases1 = sum([i < 0 for i in values1])\n",
    "risk1 = loss_cases1 / len(values1)\n",
    "\n",
    "loss_cases2 = sum([i < 0 for i in values2])\n",
    "risk2 = loss_cases2 / len(values2)\n",
    "\n",
    "loss_cases3 = sum([i < 0 for i in values3])\n",
    "risk3 = loss_cases3 / len(values3)\n",
    "\n",
    "print(\"Риск получить отрицательную прибыль для региона 1:\", risk1)\n",
    "print(\"Риск получить отрицательную прибыль для региона 2:\", risk2)\n",
    "print(\"Риск получить отрицательную прибыль для региона 3:\", risk3)"
   ]
  },
  {
   "cell_type": "markdown",
   "metadata": {},
   "source": [
    "Согласно данным, лучше всего бурить скважину во втором регионе, потому что средняя прибыль в нем выше других регионов. Также риски, по сравнению с другими регионами, также невысокие. Таким образом можно сказать, что потенциально самый прибыльный регион -- регион №2. "
   ]
  },
  {
   "cell_type": "markdown",
   "metadata": {},
   "source": [
    "# Вывод"
   ]
  },
  {
   "cell_type": "markdown",
   "metadata": {},
   "source": [
    "Таким образом в проекте было проанализировано 3 датасета, в которых встретились данные, описывающие месторождения. В рамках исследования были построены модели линейной регрессии с использованием библиотек машинног обучения, а также была проведена предобработка данных, в результате которой выяснилось, что мы потенацильно можем иметь дело с проблемой мультиколлинеарности. Также была посчитана потенциальная прибыль и выбран регион, в котором прибыль от бурения будет максимальной. \n",
    "    "
   ]
  }
 ],
 "metadata": {
  "ExecuteTimeLog": [
   {
    "duration": 400,
    "start_time": "2023-04-03T12:55:10.065Z"
   },
   {
    "duration": 1334,
    "start_time": "2023-04-03T12:56:09.043Z"
   },
   {
    "duration": 1087,
    "start_time": "2023-04-03T12:56:17.041Z"
   },
   {
    "duration": 406,
    "start_time": "2023-04-03T12:56:47.710Z"
   },
   {
    "duration": 424,
    "start_time": "2023-04-03T12:57:04.142Z"
   },
   {
    "duration": 448,
    "start_time": "2023-04-03T12:57:14.898Z"
   },
   {
    "duration": 39,
    "start_time": "2023-04-03T12:57:52.037Z"
   },
   {
    "duration": 10,
    "start_time": "2023-04-03T12:58:20.847Z"
   },
   {
    "duration": 11,
    "start_time": "2023-04-03T12:58:31.141Z"
   },
   {
    "duration": 27,
    "start_time": "2023-04-03T12:58:39.936Z"
   },
   {
    "duration": 304,
    "start_time": "2023-04-03T12:58:57.875Z"
   },
   {
    "duration": 5060,
    "start_time": "2023-04-03T13:01:01.375Z"
   },
   {
    "duration": 183432,
    "start_time": "2023-04-03T13:02:31.538Z"
   },
   {
    "duration": 78,
    "start_time": "2023-04-03T13:06:27.880Z"
   },
   {
    "duration": 62,
    "start_time": "2023-04-03T13:06:42.107Z"
   },
   {
    "duration": 20,
    "start_time": "2023-04-03T13:07:02.739Z"
   },
   {
    "duration": 40,
    "start_time": "2023-04-03T13:07:22.394Z"
   },
   {
    "duration": 47,
    "start_time": "2023-04-03T13:07:49.447Z"
   },
   {
    "duration": 45,
    "start_time": "2023-04-03T13:08:00.604Z"
   },
   {
    "duration": 23,
    "start_time": "2023-04-03T13:08:14.908Z"
   },
   {
    "duration": 23,
    "start_time": "2023-04-03T13:08:15.607Z"
   },
   {
    "duration": 22,
    "start_time": "2023-04-03T13:08:16.204Z"
   },
   {
    "duration": 5474,
    "start_time": "2023-04-03T16:13:28.633Z"
   },
   {
    "duration": 960,
    "start_time": "2023-04-03T16:13:34.109Z"
   },
   {
    "duration": 31,
    "start_time": "2023-04-03T16:13:35.071Z"
   },
   {
    "duration": 21,
    "start_time": "2023-04-03T16:13:37.703Z"
   },
   {
    "duration": 127,
    "start_time": "2023-04-03T16:13:38.277Z"
   },
   {
    "duration": 61,
    "start_time": "2023-04-03T16:13:38.805Z"
   },
   {
    "duration": 20,
    "start_time": "2023-04-03T16:13:44.249Z"
   },
   {
    "duration": 20,
    "start_time": "2023-04-03T16:13:45.635Z"
   },
   {
    "duration": 22,
    "start_time": "2023-04-03T16:13:46.018Z"
   },
   {
    "duration": 12,
    "start_time": "2023-04-03T16:14:16.447Z"
   },
   {
    "duration": 7,
    "start_time": "2023-04-03T16:14:27.021Z"
   },
   {
    "duration": 17,
    "start_time": "2023-04-03T16:14:30.266Z"
   },
   {
    "duration": 10,
    "start_time": "2023-04-03T16:14:39.010Z"
   },
   {
    "duration": 20,
    "start_time": "2023-04-03T16:15:06.509Z"
   },
   {
    "duration": 531,
    "start_time": "2023-04-03T16:19:52.158Z"
   },
   {
    "duration": 1483,
    "start_time": "2023-04-03T16:19:58.562Z"
   },
   {
    "duration": 1495,
    "start_time": "2023-04-03T16:21:39.730Z"
   },
   {
    "duration": 1581,
    "start_time": "2023-04-03T16:26:26.414Z"
   },
   {
    "duration": 1461,
    "start_time": "2023-04-03T16:27:17.838Z"
   },
   {
    "duration": 1570,
    "start_time": "2023-04-03T16:27:59.429Z"
   },
   {
    "duration": 1503,
    "start_time": "2023-04-03T16:28:08.738Z"
   },
   {
    "duration": 1487,
    "start_time": "2023-04-03T16:29:14.245Z"
   },
   {
    "duration": 9,
    "start_time": "2023-04-03T16:32:41.057Z"
   },
   {
    "duration": 2051,
    "start_time": "2023-04-03T16:33:10.678Z"
   },
   {
    "duration": 15,
    "start_time": "2023-04-03T16:33:18.315Z"
   },
   {
    "duration": 19,
    "start_time": "2023-04-03T16:33:37.679Z"
   },
   {
    "duration": 39,
    "start_time": "2023-04-03T16:36:39.804Z"
   },
   {
    "duration": 24,
    "start_time": "2023-04-03T16:36:45.598Z"
   },
   {
    "duration": 17,
    "start_time": "2023-04-03T16:36:50.458Z"
   },
   {
    "duration": 25,
    "start_time": "2023-04-03T16:37:06.912Z"
   },
   {
    "duration": 21,
    "start_time": "2023-04-03T16:37:32.017Z"
   },
   {
    "duration": 22,
    "start_time": "2023-04-03T16:37:49.810Z"
   },
   {
    "duration": 17,
    "start_time": "2023-04-03T16:37:52.242Z"
   },
   {
    "duration": 20,
    "start_time": "2023-04-03T16:37:55.110Z"
   },
   {
    "duration": 17,
    "start_time": "2023-04-03T16:38:24.262Z"
   },
   {
    "duration": 19,
    "start_time": "2023-04-03T16:39:19.594Z"
   },
   {
    "duration": 20,
    "start_time": "2023-04-03T16:39:40.097Z"
   },
   {
    "duration": 17,
    "start_time": "2023-04-03T16:39:41.842Z"
   },
   {
    "duration": 90,
    "start_time": "2023-04-03T16:42:25.652Z"
   },
   {
    "duration": 174,
    "start_time": "2023-04-03T16:42:43.168Z"
   },
   {
    "duration": 20,
    "start_time": "2023-04-03T16:42:50.910Z"
   },
   {
    "duration": 105,
    "start_time": "2023-04-03T16:43:41.143Z"
   },
   {
    "duration": 43,
    "start_time": "2023-04-03T16:44:26.634Z"
   },
   {
    "duration": 48,
    "start_time": "2023-04-03T16:44:28.005Z"
   },
   {
    "duration": 27,
    "start_time": "2023-04-03T16:44:30.859Z"
   },
   {
    "duration": 111,
    "start_time": "2023-04-03T16:44:52.433Z"
   },
   {
    "duration": 50,
    "start_time": "2023-04-03T16:45:00.419Z"
   },
   {
    "duration": 42,
    "start_time": "2023-04-03T16:45:01.408Z"
   },
   {
    "duration": 1616,
    "start_time": "2023-04-03T16:45:21.510Z"
   },
   {
    "duration": 30,
    "start_time": "2023-04-03T16:45:33.339Z"
   },
   {
    "duration": 38,
    "start_time": "2023-04-03T16:45:43.939Z"
   },
   {
    "duration": 23,
    "start_time": "2023-04-03T16:45:44.156Z"
   },
   {
    "duration": 6505,
    "start_time": "2023-04-04T09:15:09.988Z"
   },
   {
    "duration": 1731,
    "start_time": "2023-04-04T09:15:16.496Z"
   },
   {
    "duration": 40,
    "start_time": "2023-04-04T09:15:18.228Z"
   },
   {
    "duration": 29,
    "start_time": "2023-04-04T09:15:22.269Z"
   },
   {
    "duration": 65,
    "start_time": "2023-04-04T09:15:22.649Z"
   },
   {
    "duration": 36,
    "start_time": "2023-04-04T09:15:23.433Z"
   },
   {
    "duration": 27,
    "start_time": "2023-04-04T09:15:24.113Z"
   },
   {
    "duration": 21,
    "start_time": "2023-04-04T09:15:24.493Z"
   },
   {
    "duration": 1869,
    "start_time": "2023-04-04T09:15:26.149Z"
   },
   {
    "duration": 118,
    "start_time": "2023-04-04T09:15:28.021Z"
   },
   {
    "duration": 296,
    "start_time": "2023-04-04T09:15:30.965Z"
   },
   {
    "duration": 36,
    "start_time": "2023-04-04T09:15:31.799Z"
   },
   {
    "duration": 27,
    "start_time": "2023-04-04T09:15:55.118Z"
   },
   {
    "duration": 23,
    "start_time": "2023-04-04T09:15:59.032Z"
   },
   {
    "duration": 4,
    "start_time": "2023-04-04T09:56:05.496Z"
   },
   {
    "duration": 5,
    "start_time": "2023-04-04T09:57:50.981Z"
   },
   {
    "duration": 13,
    "start_time": "2023-04-04T09:58:11.454Z"
   },
   {
    "duration": 684,
    "start_time": "2023-04-04T09:58:18.301Z"
   },
   {
    "duration": 2030,
    "start_time": "2023-04-04T09:59:01.632Z"
   },
   {
    "duration": 2034,
    "start_time": "2023-04-04T10:02:31.781Z"
   },
   {
    "duration": 2507,
    "start_time": "2023-04-04T10:09:21.915Z"
   },
   {
    "duration": 2861,
    "start_time": "2023-04-04T10:10:45.149Z"
   },
   {
    "duration": 2736,
    "start_time": "2023-04-04T10:11:36.658Z"
   },
   {
    "duration": 2470,
    "start_time": "2023-04-04T10:14:39.108Z"
   },
   {
    "duration": 10,
    "start_time": "2023-04-04T10:14:54.963Z"
   },
   {
    "duration": 5,
    "start_time": "2023-04-04T10:15:05.361Z"
   },
   {
    "duration": 6,
    "start_time": "2023-04-04T10:15:19.205Z"
   },
   {
    "duration": 27,
    "start_time": "2023-04-04T10:20:29.269Z"
   },
   {
    "duration": 4279,
    "start_time": "2023-04-04T10:32:06.187Z"
   },
   {
    "duration": 475,
    "start_time": "2023-04-04T10:32:10.469Z"
   },
   {
    "duration": 42,
    "start_time": "2023-04-04T10:32:10.946Z"
   },
   {
    "duration": 55,
    "start_time": "2023-04-04T10:32:10.990Z"
   },
   {
    "duration": 69,
    "start_time": "2023-04-04T10:32:11.047Z"
   },
   {
    "duration": 26,
    "start_time": "2023-04-04T10:32:11.134Z"
   },
   {
    "duration": 32,
    "start_time": "2023-04-04T10:32:11.162Z"
   },
   {
    "duration": 54,
    "start_time": "2023-04-04T10:32:11.196Z"
   },
   {
    "duration": 1797,
    "start_time": "2023-04-04T10:32:11.252Z"
   },
   {
    "duration": 197,
    "start_time": "2023-04-04T10:32:13.052Z"
   },
   {
    "duration": 286,
    "start_time": "2023-04-04T10:32:13.253Z"
   },
   {
    "duration": 196,
    "start_time": "2023-04-04T10:32:13.543Z"
   },
   {
    "duration": 3,
    "start_time": "2023-04-04T10:32:13.747Z"
   },
   {
    "duration": 2175,
    "start_time": "2023-04-04T10:32:13.834Z"
   },
   {
    "duration": 67,
    "start_time": "2023-04-04T10:32:16.011Z"
   },
   {
    "duration": 6,
    "start_time": "2023-04-04T10:32:28.181Z"
   },
   {
    "duration": 4203,
    "start_time": "2023-04-04T10:32:40.670Z"
   },
   {
    "duration": 527,
    "start_time": "2023-04-04T10:32:44.876Z"
   },
   {
    "duration": 57,
    "start_time": "2023-04-04T10:32:45.405Z"
   },
   {
    "duration": 30,
    "start_time": "2023-04-04T10:32:45.464Z"
   },
   {
    "duration": 88,
    "start_time": "2023-04-04T10:32:45.496Z"
   },
   {
    "duration": 24,
    "start_time": "2023-04-04T10:32:45.586Z"
   },
   {
    "duration": 48,
    "start_time": "2023-04-04T10:32:45.612Z"
   },
   {
    "duration": 29,
    "start_time": "2023-04-04T10:32:45.663Z"
   },
   {
    "duration": 2033,
    "start_time": "2023-04-04T10:32:45.695Z"
   },
   {
    "duration": 211,
    "start_time": "2023-04-04T10:32:47.733Z"
   },
   {
    "duration": 199,
    "start_time": "2023-04-04T10:32:47.947Z"
   },
   {
    "duration": 220,
    "start_time": "2023-04-04T10:32:48.149Z"
   },
   {
    "duration": 162,
    "start_time": "2023-04-04T10:32:48.373Z"
   },
   {
    "duration": 2098,
    "start_time": "2023-04-04T10:32:48.537Z"
   },
   {
    "duration": 6,
    "start_time": "2023-04-04T10:32:50.638Z"
   },
   {
    "duration": 4463,
    "start_time": "2023-04-04T15:43:23.865Z"
   },
   {
    "duration": 426,
    "start_time": "2023-04-04T15:43:28.331Z"
   },
   {
    "duration": 65,
    "start_time": "2023-04-04T15:43:28.759Z"
   },
   {
    "duration": 45,
    "start_time": "2023-04-04T15:43:28.827Z"
   },
   {
    "duration": 96,
    "start_time": "2023-04-04T15:43:28.874Z"
   },
   {
    "duration": 34,
    "start_time": "2023-04-04T15:43:28.972Z"
   },
   {
    "duration": 20,
    "start_time": "2023-04-04T15:43:29.008Z"
   },
   {
    "duration": 18,
    "start_time": "2023-04-04T15:43:29.030Z"
   },
   {
    "duration": 2197,
    "start_time": "2023-04-04T15:43:29.050Z"
   },
   {
    "duration": 158,
    "start_time": "2023-04-04T15:43:31.250Z"
   },
   {
    "duration": 197,
    "start_time": "2023-04-04T15:43:31.412Z"
   },
   {
    "duration": 200,
    "start_time": "2023-04-04T15:43:31.612Z"
   },
   {
    "duration": 88,
    "start_time": "2023-04-04T15:43:31.815Z"
   },
   {
    "duration": 2651,
    "start_time": "2023-04-04T15:43:31.910Z"
   },
   {
    "duration": 5,
    "start_time": "2023-04-04T15:43:34.563Z"
   },
   {
    "duration": 13,
    "start_time": "2023-04-04T15:45:20.338Z"
   },
   {
    "duration": 5070,
    "start_time": "2023-04-04T16:24:03.359Z"
   },
   {
    "duration": 1885,
    "start_time": "2023-04-04T16:24:12.316Z"
   },
   {
    "duration": 5404,
    "start_time": "2023-04-04T21:31:43.045Z"
   },
   {
    "duration": 1550,
    "start_time": "2023-04-04T21:31:57.298Z"
   },
   {
    "duration": 37,
    "start_time": "2023-04-04T21:33:00.933Z"
   },
   {
    "duration": 26,
    "start_time": "2023-04-04T21:33:01.147Z"
   },
   {
    "duration": 58,
    "start_time": "2023-04-04T21:33:02.245Z"
   },
   {
    "duration": 21,
    "start_time": "2023-04-04T21:33:03.336Z"
   },
   {
    "duration": 21,
    "start_time": "2023-04-04T21:33:03.977Z"
   },
   {
    "duration": 22,
    "start_time": "2023-04-04T21:33:12.793Z"
   },
   {
    "duration": 111,
    "start_time": "2023-04-04T21:34:16.948Z"
   },
   {
    "duration": 70,
    "start_time": "2023-04-04T21:34:33.622Z"
   },
   {
    "duration": 35,
    "start_time": "2023-04-04T21:36:32.050Z"
   },
   {
    "duration": 39,
    "start_time": "2023-04-04T21:38:29.995Z"
   },
   {
    "duration": 58,
    "start_time": "2023-04-04T21:38:33.086Z"
   },
   {
    "duration": 15,
    "start_time": "2023-04-04T21:38:37.564Z"
   },
   {
    "duration": 15,
    "start_time": "2023-04-04T21:38:41.942Z"
   },
   {
    "duration": 3,
    "start_time": "2023-04-04T22:02:44.150Z"
   },
   {
    "duration": 4,
    "start_time": "2023-04-04T22:03:35.810Z"
   },
   {
    "duration": 12,
    "start_time": "2023-04-04T22:15:06.217Z"
   },
   {
    "duration": 2222,
    "start_time": "2023-04-04T22:15:31.551Z"
   },
   {
    "duration": 17,
    "start_time": "2023-04-04T22:15:40.000Z"
   },
   {
    "duration": 19,
    "start_time": "2023-04-04T22:15:48.081Z"
   },
   {
    "duration": 17,
    "start_time": "2023-04-04T22:17:27.627Z"
   },
   {
    "duration": 1572,
    "start_time": "2023-04-04T22:17:41.230Z"
   },
   {
    "duration": 19025,
    "start_time": "2023-04-04T22:18:01.386Z"
   },
   {
    "duration": 18504,
    "start_time": "2023-04-04T22:21:05.730Z"
   },
   {
    "duration": 18886,
    "start_time": "2023-04-04T22:23:25.439Z"
   },
   {
    "duration": 17598,
    "start_time": "2023-04-04T22:24:05.944Z"
   },
   {
    "duration": 17221,
    "start_time": "2023-04-04T22:24:56.824Z"
   },
   {
    "duration": 10609,
    "start_time": "2023-04-04T22:27:12.943Z"
   },
   {
    "duration": 16878,
    "start_time": "2023-04-04T22:27:42.561Z"
   },
   {
    "duration": 18117,
    "start_time": "2023-04-04T22:30:14.929Z"
   },
   {
    "duration": 4,
    "start_time": "2023-04-04T22:33:09.886Z"
   },
   {
    "duration": 3917,
    "start_time": "2023-04-04T22:37:42.050Z"
   },
   {
    "duration": 390,
    "start_time": "2023-04-04T22:37:45.969Z"
   },
   {
    "duration": 37,
    "start_time": "2023-04-04T22:37:46.360Z"
   },
   {
    "duration": 42,
    "start_time": "2023-04-04T22:37:46.400Z"
   },
   {
    "duration": 55,
    "start_time": "2023-04-04T22:37:46.443Z"
   },
   {
    "duration": 36,
    "start_time": "2023-04-04T22:37:46.499Z"
   },
   {
    "duration": 19,
    "start_time": "2023-04-04T22:37:46.537Z"
   },
   {
    "duration": 19,
    "start_time": "2023-04-04T22:37:46.558Z"
   },
   {
    "duration": 63,
    "start_time": "2023-04-04T22:37:46.579Z"
   },
   {
    "duration": 191,
    "start_time": "2023-04-04T22:37:46.644Z"
   },
   {
    "duration": 198,
    "start_time": "2023-04-04T22:37:46.838Z"
   },
   {
    "duration": 110,
    "start_time": "2023-04-04T22:37:47.038Z"
   },
   {
    "duration": 186,
    "start_time": "2023-04-04T22:37:47.150Z"
   },
   {
    "duration": 21272,
    "start_time": "2023-04-04T22:37:47.338Z"
   },
   {
    "duration": 9957,
    "start_time": "2023-04-04T22:38:08.612Z"
   },
   {
    "duration": 21823,
    "start_time": "2023-04-04T22:38:18.571Z"
   },
   {
    "duration": 5297,
    "start_time": "2023-04-05T09:19:38.085Z"
   },
   {
    "duration": 1044,
    "start_time": "2023-04-05T09:19:45.414Z"
   },
   {
    "duration": 41,
    "start_time": "2023-04-05T09:19:47.874Z"
   },
   {
    "duration": 38,
    "start_time": "2023-04-05T09:19:48.400Z"
   },
   {
    "duration": 63,
    "start_time": "2023-04-05T09:19:50.111Z"
   },
   {
    "duration": 31,
    "start_time": "2023-04-05T09:19:51.139Z"
   },
   {
    "duration": 21,
    "start_time": "2023-04-05T09:19:51.834Z"
   },
   {
    "duration": 18,
    "start_time": "2023-04-05T09:19:56.775Z"
   },
   {
    "duration": 20,
    "start_time": "2023-04-05T09:19:59.649Z"
   },
   {
    "duration": 429,
    "start_time": "2023-04-05T09:20:03.534Z"
   },
   {
    "duration": 51,
    "start_time": "2023-04-05T09:20:03.964Z"
   },
   {
    "duration": 26,
    "start_time": "2023-04-05T09:20:04.365Z"
   },
   {
    "duration": 22,
    "start_time": "2023-04-05T09:20:05.439Z"
   },
   {
    "duration": 22,
    "start_time": "2023-04-05T09:20:06.449Z"
   },
   {
    "duration": 26,
    "start_time": "2023-04-05T09:20:07.066Z"
   },
   {
    "duration": 27,
    "start_time": "2023-04-05T09:20:09.637Z"
   },
   {
    "duration": 46,
    "start_time": "2023-04-05T09:21:06.947Z"
   },
   {
    "duration": 187,
    "start_time": "2023-04-05T09:21:15.212Z"
   },
   {
    "duration": 19,
    "start_time": "2023-04-05T09:21:17.965Z"
   },
   {
    "duration": 18,
    "start_time": "2023-04-05T09:21:21.290Z"
   },
   {
    "duration": 26382,
    "start_time": "2023-04-05T09:23:46.159Z"
   },
   {
    "duration": 2357,
    "start_time": "2023-04-05T13:37:47.575Z"
   },
   {
    "duration": 433,
    "start_time": "2023-04-05T13:37:50.751Z"
   },
   {
    "duration": 38,
    "start_time": "2023-04-05T13:37:52.389Z"
   },
   {
    "duration": 26,
    "start_time": "2023-04-05T13:37:52.813Z"
   },
   {
    "duration": 27,
    "start_time": "2023-04-05T13:37:54.005Z"
   },
   {
    "duration": 21,
    "start_time": "2023-04-05T13:37:54.937Z"
   },
   {
    "duration": 23,
    "start_time": "2023-04-05T13:37:58.288Z"
   },
   {
    "duration": 46,
    "start_time": "2023-04-05T13:37:59.759Z"
   },
   {
    "duration": 186,
    "start_time": "2023-04-05T13:38:11.111Z"
   },
   {
    "duration": 24,
    "start_time": "2023-04-05T13:38:12.894Z"
   },
   {
    "duration": 19,
    "start_time": "2023-04-05T13:38:13.755Z"
   },
   {
    "duration": 3591,
    "start_time": "2023-04-05T14:06:54.301Z"
   },
   {
    "duration": 3343,
    "start_time": "2023-04-05T14:07:32.086Z"
   },
   {
    "duration": 3539,
    "start_time": "2023-04-05T14:09:15.956Z"
   },
   {
    "duration": 19,
    "start_time": "2023-04-05T14:26:20.769Z"
   },
   {
    "duration": 19,
    "start_time": "2023-04-05T14:26:28.528Z"
   },
   {
    "duration": 27,
    "start_time": "2023-04-05T14:28:16.227Z"
   },
   {
    "duration": 23,
    "start_time": "2023-04-05T14:28:27.397Z"
   },
   {
    "duration": 909,
    "start_time": "2023-04-05T14:28:36.006Z"
   },
   {
    "duration": 9501,
    "start_time": "2023-04-05T14:28:56.836Z"
   },
   {
    "duration": 9418,
    "start_time": "2023-04-05T14:29:53.835Z"
   },
   {
    "duration": 19,
    "start_time": "2023-04-05T14:36:02.414Z"
   },
   {
    "duration": 8932,
    "start_time": "2023-04-05T14:37:27.718Z"
   },
   {
    "duration": 78,
    "start_time": "2023-04-05T14:38:06.564Z"
   },
   {
    "duration": 9000,
    "start_time": "2023-04-05T14:39:40.207Z"
   },
   {
    "duration": 4047,
    "start_time": "2023-04-05T14:44:19.958Z"
   },
   {
    "duration": 438,
    "start_time": "2023-04-05T14:44:24.007Z"
   },
   {
    "duration": 54,
    "start_time": "2023-04-05T14:44:24.447Z"
   },
   {
    "duration": 28,
    "start_time": "2023-04-05T14:44:24.504Z"
   },
   {
    "duration": 83,
    "start_time": "2023-04-05T14:44:24.534Z"
   },
   {
    "duration": 23,
    "start_time": "2023-04-05T14:44:24.619Z"
   },
   {
    "duration": 24,
    "start_time": "2023-04-05T14:44:24.644Z"
   },
   {
    "duration": 52,
    "start_time": "2023-04-05T14:44:24.690Z"
   },
   {
    "duration": 55,
    "start_time": "2023-04-05T14:44:24.744Z"
   },
   {
    "duration": 194,
    "start_time": "2023-04-05T14:44:24.801Z"
   },
   {
    "duration": 111,
    "start_time": "2023-04-05T14:44:24.997Z"
   },
   {
    "duration": 83,
    "start_time": "2023-04-05T14:44:25.111Z"
   },
   {
    "duration": 9402,
    "start_time": "2023-04-05T14:44:25.198Z"
   },
   {
    "duration": 13,
    "start_time": "2023-04-05T15:37:37.532Z"
   },
   {
    "duration": 4,
    "start_time": "2023-04-05T15:38:32.357Z"
   },
   {
    "duration": 4,
    "start_time": "2023-04-05T15:38:48.059Z"
   },
   {
    "duration": 5800,
    "start_time": "2023-04-05T15:42:49.691Z"
   },
   {
    "duration": 1694,
    "start_time": "2023-04-05T15:42:55.493Z"
   },
   {
    "duration": 57,
    "start_time": "2023-04-05T15:42:57.189Z"
   },
   {
    "duration": 44,
    "start_time": "2023-04-05T15:42:57.249Z"
   },
   {
    "duration": 78,
    "start_time": "2023-04-05T15:42:57.296Z"
   },
   {
    "duration": 24,
    "start_time": "2023-04-05T15:42:57.376Z"
   },
   {
    "duration": 37,
    "start_time": "2023-04-05T15:42:57.402Z"
   },
   {
    "duration": 54,
    "start_time": "2023-04-05T15:42:57.440Z"
   },
   {
    "duration": 132,
    "start_time": "2023-04-05T15:42:57.496Z"
   },
   {
    "duration": 195,
    "start_time": "2023-04-05T15:42:57.632Z"
   },
   {
    "duration": 204,
    "start_time": "2023-04-05T15:42:57.829Z"
   },
   {
    "duration": 103,
    "start_time": "2023-04-05T15:42:58.118Z"
   },
   {
    "duration": 9533,
    "start_time": "2023-04-05T15:42:58.223Z"
   },
   {
    "duration": 13,
    "start_time": "2023-04-05T15:43:15.566Z"
   },
   {
    "duration": 4547,
    "start_time": "2023-04-06T18:34:16.359Z"
   },
   {
    "duration": 1666,
    "start_time": "2023-04-06T18:34:22.486Z"
   },
   {
    "duration": 35,
    "start_time": "2023-04-06T18:34:25.171Z"
   },
   {
    "duration": 22,
    "start_time": "2023-04-06T18:34:25.648Z"
   },
   {
    "duration": 57,
    "start_time": "2023-04-06T18:34:27.239Z"
   },
   {
    "duration": 20,
    "start_time": "2023-04-06T18:34:28.225Z"
   },
   {
    "duration": 21,
    "start_time": "2023-04-06T18:34:31.233Z"
   },
   {
    "duration": 53,
    "start_time": "2023-04-06T18:34:32.048Z"
   },
   {
    "duration": 92,
    "start_time": "2023-04-06T18:34:36.249Z"
   },
   {
    "duration": 18,
    "start_time": "2023-04-06T18:34:37.795Z"
   },
   {
    "duration": 17,
    "start_time": "2023-04-06T18:34:38.799Z"
   },
   {
    "duration": 3,
    "start_time": "2023-04-06T18:34:56.419Z"
   },
   {
    "duration": 119,
    "start_time": "2023-04-06T18:47:42.983Z"
   },
   {
    "duration": 1004,
    "start_time": "2023-04-06T18:48:57.714Z"
   },
   {
    "duration": 29,
    "start_time": "2023-04-06T18:49:39.717Z"
   },
   {
    "duration": 5281,
    "start_time": "2023-04-07T12:13:46.917Z"
   },
   {
    "duration": 1684,
    "start_time": "2023-04-07T12:13:54.685Z"
   },
   {
    "duration": 37,
    "start_time": "2023-04-07T12:14:00.198Z"
   },
   {
    "duration": 26,
    "start_time": "2023-04-07T12:14:00.615Z"
   },
   {
    "duration": 67,
    "start_time": "2023-04-07T12:14:01.413Z"
   },
   {
    "duration": 23,
    "start_time": "2023-04-07T12:14:02.163Z"
   },
   {
    "duration": 22,
    "start_time": "2023-04-07T12:14:04.013Z"
   },
   {
    "duration": 50,
    "start_time": "2023-04-07T12:14:04.533Z"
   },
   {
    "duration": 181,
    "start_time": "2023-04-07T12:14:06.821Z"
   },
   {
    "duration": 33,
    "start_time": "2023-04-07T12:14:07.979Z"
   },
   {
    "duration": 19,
    "start_time": "2023-04-07T12:14:08.640Z"
   },
   {
    "duration": 5,
    "start_time": "2023-04-07T12:14:11.334Z"
   },
   {
    "duration": 143,
    "start_time": "2023-04-07T12:14:18.710Z"
   },
   {
    "duration": 25,
    "start_time": "2023-04-07T12:16:45.510Z"
   },
   {
    "duration": 4568,
    "start_time": "2023-04-07T12:17:29.038Z"
   },
   {
    "duration": 9473,
    "start_time": "2023-04-07T12:34:02.376Z"
   },
   {
    "duration": 9569,
    "start_time": "2023-04-07T12:34:42.884Z"
   },
   {
    "duration": 39,
    "start_time": "2023-04-07T12:43:16.967Z"
   },
   {
    "duration": 26,
    "start_time": "2023-04-07T12:44:00.281Z"
   },
   {
    "duration": 85,
    "start_time": "2023-04-07T13:06:38.853Z"
   },
   {
    "duration": 4,
    "start_time": "2023-04-07T13:06:42.617Z"
   },
   {
    "duration": 11,
    "start_time": "2023-04-07T13:06:51.570Z"
   },
   {
    "duration": 10,
    "start_time": "2023-04-07T13:06:59.270Z"
   },
   {
    "duration": 15,
    "start_time": "2023-04-07T13:07:03.607Z"
   },
   {
    "duration": 10,
    "start_time": "2023-04-07T13:07:24.369Z"
   },
   {
    "duration": 20,
    "start_time": "2023-04-07T13:09:38.655Z"
   },
   {
    "duration": 34989,
    "start_time": "2023-04-07T13:09:48.790Z"
   },
   {
    "duration": 36109,
    "start_time": "2023-04-07T13:10:53.866Z"
   },
   {
    "duration": 32543,
    "start_time": "2023-04-07T13:22:04.200Z"
   },
   {
    "duration": 32512,
    "start_time": "2023-04-07T13:23:34.539Z"
   },
   {
    "duration": 32632,
    "start_time": "2023-04-07T13:27:45.682Z"
   },
   {
    "duration": 2845,
    "start_time": "2023-04-07T13:35:27.479Z"
   },
   {
    "duration": 26,
    "start_time": "2023-04-07T13:38:22.435Z"
   },
   {
    "duration": 31,
    "start_time": "2023-04-07T13:39:04.103Z"
   },
   {
    "duration": 32,
    "start_time": "2023-04-07T13:39:36.297Z"
   },
   {
    "duration": 78,
    "start_time": "2023-04-07T13:40:14.475Z"
   },
   {
    "duration": 88,
    "start_time": "2023-04-07T13:41:03.509Z"
   },
   {
    "duration": 86,
    "start_time": "2023-04-07T13:41:47.424Z"
   },
   {
    "duration": 5,
    "start_time": "2023-04-07T13:42:05.767Z"
   },
   {
    "duration": 240,
    "start_time": "2023-04-07T13:42:37.478Z"
   },
   {
    "duration": 28586,
    "start_time": "2023-04-07T13:43:47.689Z"
   },
   {
    "duration": 29167,
    "start_time": "2023-04-07T13:45:10.513Z"
   },
   {
    "duration": 30185,
    "start_time": "2023-04-07T14:03:55.767Z"
   },
   {
    "duration": 0,
    "start_time": "2023-04-07T14:04:25.954Z"
   },
   {
    "duration": 9,
    "start_time": "2023-04-07T14:07:03.727Z"
   },
   {
    "duration": 11,
    "start_time": "2023-04-07T14:08:43.438Z"
   },
   {
    "duration": 20,
    "start_time": "2023-04-07T14:09:03.908Z"
   },
   {
    "duration": 22,
    "start_time": "2023-04-07T14:09:31.252Z"
   },
   {
    "duration": 8,
    "start_time": "2023-04-07T14:09:54.779Z"
   },
   {
    "duration": 7,
    "start_time": "2023-04-07T14:11:45.933Z"
   },
   {
    "duration": 3988,
    "start_time": "2023-04-07T14:12:35.418Z"
   },
   {
    "duration": 452,
    "start_time": "2023-04-07T14:12:39.408Z"
   },
   {
    "duration": 45,
    "start_time": "2023-04-07T14:12:39.862Z"
   },
   {
    "duration": 26,
    "start_time": "2023-04-07T14:12:39.909Z"
   },
   {
    "duration": 89,
    "start_time": "2023-04-07T14:12:39.936Z"
   },
   {
    "duration": 22,
    "start_time": "2023-04-07T14:12:40.026Z"
   },
   {
    "duration": 39,
    "start_time": "2023-04-07T14:12:40.049Z"
   },
   {
    "duration": 51,
    "start_time": "2023-04-07T14:12:40.090Z"
   },
   {
    "duration": 153,
    "start_time": "2023-04-07T14:12:40.143Z"
   },
   {
    "duration": 193,
    "start_time": "2023-04-07T14:12:40.299Z"
   },
   {
    "duration": 200,
    "start_time": "2023-04-07T14:12:40.494Z"
   },
   {
    "duration": 192,
    "start_time": "2023-04-07T14:12:40.698Z"
   },
   {
    "duration": 28398,
    "start_time": "2023-04-07T14:12:40.891Z"
   },
   {
    "duration": 64,
    "start_time": "2023-04-07T21:56:30.899Z"
   },
   {
    "duration": 5876,
    "start_time": "2023-04-07T21:56:56.851Z"
   },
   {
    "duration": 2089,
    "start_time": "2023-04-07T21:57:02.729Z"
   },
   {
    "duration": 50,
    "start_time": "2023-04-07T21:57:04.829Z"
   },
   {
    "duration": 38,
    "start_time": "2023-04-07T21:57:04.885Z"
   },
   {
    "duration": 77,
    "start_time": "2023-04-07T21:57:04.924Z"
   },
   {
    "duration": 21,
    "start_time": "2023-04-07T21:57:05.005Z"
   },
   {
    "duration": 27,
    "start_time": "2023-04-07T21:57:05.028Z"
   },
   {
    "duration": 70,
    "start_time": "2023-04-07T21:57:05.057Z"
   },
   {
    "duration": 161,
    "start_time": "2023-04-07T21:57:05.129Z"
   },
   {
    "duration": 129,
    "start_time": "2023-04-07T21:57:05.374Z"
   },
   {
    "duration": 164,
    "start_time": "2023-04-07T21:57:05.509Z"
   },
   {
    "duration": 128,
    "start_time": "2023-04-07T21:57:05.686Z"
   },
   {
    "duration": 28361,
    "start_time": "2023-04-07T21:57:05.816Z"
   },
   {
    "duration": 141,
    "start_time": "2023-04-07T21:57:34.179Z"
   },
   {
    "duration": 75,
    "start_time": "2023-04-07T21:59:57.953Z"
   },
   {
    "duration": 30,
    "start_time": "2023-04-07T22:00:18.232Z"
   },
   {
    "duration": 30,
    "start_time": "2023-04-07T22:00:25.061Z"
   },
   {
    "duration": 67,
    "start_time": "2023-04-07T22:05:10.926Z"
   },
   {
    "duration": 26,
    "start_time": "2023-04-07T22:05:35.243Z"
   },
   {
    "duration": 32,
    "start_time": "2023-04-07T22:06:45.289Z"
   },
   {
    "duration": 36,
    "start_time": "2023-04-07T22:07:09.763Z"
   },
   {
    "duration": 36,
    "start_time": "2023-04-07T22:09:09.148Z"
   },
   {
    "duration": 39,
    "start_time": "2023-04-07T22:10:21.370Z"
   },
   {
    "duration": 28,
    "start_time": "2023-04-07T22:10:41.736Z"
   },
   {
    "duration": 41,
    "start_time": "2023-04-07T22:11:10.404Z"
   },
   {
    "duration": 40,
    "start_time": "2023-04-07T22:13:24.804Z"
   },
   {
    "duration": 37,
    "start_time": "2023-04-07T22:13:44.602Z"
   },
   {
    "duration": 27,
    "start_time": "2023-04-07T22:14:09.321Z"
   },
   {
    "duration": 75,
    "start_time": "2023-04-07T22:14:25.544Z"
   },
   {
    "duration": 478,
    "start_time": "2023-04-07T22:36:02.631Z"
   },
   {
    "duration": 6276,
    "start_time": "2023-04-08T12:31:56.431Z"
   },
   {
    "duration": 1013,
    "start_time": "2023-04-08T12:32:02.709Z"
   },
   {
    "duration": 42,
    "start_time": "2023-04-08T12:32:03.724Z"
   },
   {
    "duration": 31,
    "start_time": "2023-04-08T12:32:03.769Z"
   },
   {
    "duration": 75,
    "start_time": "2023-04-08T12:32:03.801Z"
   },
   {
    "duration": 21,
    "start_time": "2023-04-08T12:32:03.879Z"
   },
   {
    "duration": 19,
    "start_time": "2023-04-08T12:32:03.902Z"
   },
   {
    "duration": 91,
    "start_time": "2023-04-08T12:32:03.923Z"
   },
   {
    "duration": 160,
    "start_time": "2023-04-08T12:32:04.016Z"
   },
   {
    "duration": 209,
    "start_time": "2023-04-08T12:32:04.182Z"
   },
   {
    "duration": 202,
    "start_time": "2023-04-08T12:32:04.463Z"
   },
   {
    "duration": 7,
    "start_time": "2023-04-08T12:32:04.671Z"
   },
   {
    "duration": 30458,
    "start_time": "2023-04-08T12:32:04.680Z"
   },
   {
    "duration": 31446,
    "start_time": "2023-04-08T12:32:35.140Z"
   },
   {
    "duration": 214,
    "start_time": "2023-04-08T12:50:33.924Z"
   },
   {
    "duration": 11,
    "start_time": "2023-04-08T12:52:24.226Z"
   },
   {
    "duration": 12,
    "start_time": "2023-04-08T12:52:41.922Z"
   },
   {
    "duration": 5,
    "start_time": "2023-04-08T12:52:50.936Z"
   },
   {
    "duration": 7,
    "start_time": "2023-04-08T12:53:01.976Z"
   },
   {
    "duration": 22,
    "start_time": "2023-04-08T12:56:02.751Z"
   },
   {
    "duration": 808,
    "start_time": "2023-04-08T12:56:15.471Z"
   },
   {
    "duration": 791,
    "start_time": "2023-04-08T12:56:38.091Z"
   },
   {
    "duration": 793,
    "start_time": "2023-04-08T12:57:13.085Z"
   },
   {
    "duration": 1558,
    "start_time": "2023-04-08T12:57:56.899Z"
   },
   {
    "duration": 7,
    "start_time": "2023-04-08T12:59:35.018Z"
   },
   {
    "duration": 5190,
    "start_time": "2023-04-08T16:11:14.932Z"
   },
   {
    "duration": 1725,
    "start_time": "2023-04-08T16:11:20.124Z"
   },
   {
    "duration": 38,
    "start_time": "2023-04-08T16:11:21.851Z"
   },
   {
    "duration": 24,
    "start_time": "2023-04-08T16:11:21.891Z"
   },
   {
    "duration": 67,
    "start_time": "2023-04-08T16:11:21.942Z"
   },
   {
    "duration": 36,
    "start_time": "2023-04-08T16:11:22.011Z"
   },
   {
    "duration": 21,
    "start_time": "2023-04-08T16:11:22.049Z"
   },
   {
    "duration": 88,
    "start_time": "2023-04-08T16:11:22.072Z"
   },
   {
    "duration": 94,
    "start_time": "2023-04-08T16:11:22.162Z"
   },
   {
    "duration": 113,
    "start_time": "2023-04-08T16:11:22.343Z"
   },
   {
    "duration": 281,
    "start_time": "2023-04-08T16:11:22.461Z"
   },
   {
    "duration": 103,
    "start_time": "2023-04-08T16:11:22.744Z"
   },
   {
    "duration": 28959,
    "start_time": "2023-04-08T16:11:22.850Z"
   },
   {
    "duration": 145,
    "start_time": "2023-04-08T16:11:51.811Z"
   },
   {
    "duration": 0,
    "start_time": "2023-04-08T16:11:51.958Z"
   },
   {
    "duration": 0,
    "start_time": "2023-04-08T16:11:51.959Z"
   },
   {
    "duration": 8,
    "start_time": "2023-04-08T16:12:37.415Z"
   },
   {
    "duration": 1569,
    "start_time": "2023-04-08T16:12:56.512Z"
   },
   {
    "duration": 1811,
    "start_time": "2023-04-08T16:15:53.685Z"
   },
   {
    "duration": 1768,
    "start_time": "2023-04-08T16:16:53.499Z"
   },
   {
    "duration": 487,
    "start_time": "2023-04-08T16:49:36.689Z"
   },
   {
    "duration": 34,
    "start_time": "2023-04-08T16:49:41.469Z"
   },
   {
    "duration": 27,
    "start_time": "2023-04-08T16:49:41.679Z"
   },
   {
    "duration": 23,
    "start_time": "2023-04-08T16:49:42.080Z"
   },
   {
    "duration": 22,
    "start_time": "2023-04-08T16:49:42.701Z"
   },
   {
    "duration": 21,
    "start_time": "2023-04-08T16:49:44.071Z"
   },
   {
    "duration": 43,
    "start_time": "2023-04-08T16:49:44.510Z"
   },
   {
    "duration": 19,
    "start_time": "2023-04-08T16:49:47.042Z"
   },
   {
    "duration": 22,
    "start_time": "2023-04-08T16:49:48.326Z"
   },
   {
    "duration": 19,
    "start_time": "2023-04-08T16:49:49.109Z"
   },
   {
    "duration": 4,
    "start_time": "2023-04-08T16:49:51.647Z"
   },
   {
    "duration": 26351,
    "start_time": "2023-04-08T16:49:57.582Z"
   },
   {
    "duration": 1942,
    "start_time": "2023-04-08T16:50:23.935Z"
   },
   {
    "duration": 0,
    "start_time": "2023-04-08T16:50:25.879Z"
   },
   {
    "duration": 1792,
    "start_time": "2023-04-08T16:51:36.581Z"
   },
   {
    "duration": 57,
    "start_time": "2023-04-08T16:52:11.119Z"
   },
   {
    "duration": 77,
    "start_time": "2023-04-08T16:52:12.463Z"
   },
   {
    "duration": 20,
    "start_time": "2023-04-08T16:52:13.753Z"
   },
   {
    "duration": 19,
    "start_time": "2023-04-08T16:52:14.561Z"
   },
   {
    "duration": 4,
    "start_time": "2023-04-08T16:52:17.101Z"
   },
   {
    "duration": 23,
    "start_time": "2023-04-08T16:52:22.042Z"
   },
   {
    "duration": 21,
    "start_time": "2023-04-08T16:54:42.450Z"
   },
   {
    "duration": 1041,
    "start_time": "2023-04-08T16:56:02.163Z"
   },
   {
    "duration": 3207,
    "start_time": "2023-04-08T16:56:41.674Z"
   },
   {
    "duration": 26,
    "start_time": "2023-04-08T17:01:17.170Z"
   },
   {
    "duration": 7795,
    "start_time": "2023-04-08T17:18:08.589Z"
   },
   {
    "duration": 7817,
    "start_time": "2023-04-08T17:27:31.344Z"
   },
   {
    "duration": 7820,
    "start_time": "2023-04-08T17:31:54.872Z"
   },
   {
    "duration": 7881,
    "start_time": "2023-04-08T17:33:34.235Z"
   },
   {
    "duration": 82,
    "start_time": "2023-04-09T16:14:54.116Z"
   },
   {
    "duration": 4773,
    "start_time": "2023-04-09T16:15:09.887Z"
   },
   {
    "duration": 959,
    "start_time": "2023-04-09T16:15:14.662Z"
   },
   {
    "duration": 52,
    "start_time": "2023-04-09T16:15:15.623Z"
   },
   {
    "duration": 31,
    "start_time": "2023-04-09T16:15:15.677Z"
   },
   {
    "duration": 99,
    "start_time": "2023-04-09T16:15:15.711Z"
   },
   {
    "duration": 25,
    "start_time": "2023-04-09T16:15:15.812Z"
   },
   {
    "duration": 44,
    "start_time": "2023-04-09T16:15:15.838Z"
   },
   {
    "duration": 75,
    "start_time": "2023-04-09T16:15:15.884Z"
   },
   {
    "duration": 225,
    "start_time": "2023-04-09T16:15:15.961Z"
   },
   {
    "duration": 206,
    "start_time": "2023-04-09T16:15:16.190Z"
   },
   {
    "duration": 282,
    "start_time": "2023-04-09T16:15:16.400Z"
   },
   {
    "duration": 87,
    "start_time": "2023-04-09T16:15:16.689Z"
   },
   {
    "duration": 23531,
    "start_time": "2023-04-09T16:15:16.777Z"
   },
   {
    "duration": 8017,
    "start_time": "2023-04-09T16:15:40.311Z"
   },
   {
    "duration": 0,
    "start_time": "2023-04-09T16:15:48.330Z"
   },
   {
    "duration": 7669,
    "start_time": "2023-04-09T16:16:07.339Z"
   },
   {
    "duration": 7680,
    "start_time": "2023-04-09T16:18:22.444Z"
   },
   {
    "duration": 10,
    "start_time": "2023-04-09T16:19:30.887Z"
   },
   {
    "duration": 7209,
    "start_time": "2023-04-09T16:23:15.147Z"
   },
   {
    "duration": 7565,
    "start_time": "2023-04-09T16:23:58.783Z"
   },
   {
    "duration": 7790,
    "start_time": "2023-04-09T16:28:04.491Z"
   },
   {
    "duration": 3633,
    "start_time": "2023-04-09T16:43:17.033Z"
   },
   {
    "duration": 384,
    "start_time": "2023-04-09T16:43:20.668Z"
   },
   {
    "duration": 67,
    "start_time": "2023-04-09T16:43:21.054Z"
   },
   {
    "duration": 51,
    "start_time": "2023-04-09T16:43:21.125Z"
   },
   {
    "duration": 80,
    "start_time": "2023-04-09T16:43:21.179Z"
   },
   {
    "duration": 31,
    "start_time": "2023-04-09T16:43:21.260Z"
   },
   {
    "duration": 27,
    "start_time": "2023-04-09T16:43:21.294Z"
   },
   {
    "duration": 85,
    "start_time": "2023-04-09T16:43:21.324Z"
   },
   {
    "duration": 169,
    "start_time": "2023-04-09T16:43:21.412Z"
   },
   {
    "duration": 102,
    "start_time": "2023-04-09T16:43:21.583Z"
   },
   {
    "duration": 103,
    "start_time": "2023-04-09T16:43:21.687Z"
   },
   {
    "duration": 84,
    "start_time": "2023-04-09T16:43:21.792Z"
   },
   {
    "duration": 23949,
    "start_time": "2023-04-09T16:43:21.878Z"
   },
   {
    "duration": 524,
    "start_time": "2023-04-09T16:43:45.829Z"
   },
   {
    "duration": 0,
    "start_time": "2023-04-09T16:43:46.355Z"
   },
   {
    "duration": 0,
    "start_time": "2023-04-09T16:43:46.356Z"
   },
   {
    "duration": 8094,
    "start_time": "2023-04-09T16:44:53.590Z"
   },
   {
    "duration": 7293,
    "start_time": "2023-04-09T16:45:04.296Z"
   },
   {
    "duration": 3366,
    "start_time": "2023-04-09T16:48:41.997Z"
   },
   {
    "duration": 343,
    "start_time": "2023-04-09T16:48:45.365Z"
   },
   {
    "duration": 48,
    "start_time": "2023-04-09T16:48:45.709Z"
   },
   {
    "duration": 44,
    "start_time": "2023-04-09T16:48:45.760Z"
   },
   {
    "duration": 81,
    "start_time": "2023-04-09T16:48:45.806Z"
   },
   {
    "duration": 21,
    "start_time": "2023-04-09T16:48:45.889Z"
   },
   {
    "duration": 19,
    "start_time": "2023-04-09T16:48:45.912Z"
   },
   {
    "duration": 73,
    "start_time": "2023-04-09T16:48:45.933Z"
   },
   {
    "duration": 173,
    "start_time": "2023-04-09T16:48:46.008Z"
   },
   {
    "duration": 389,
    "start_time": "2023-04-09T16:48:46.186Z"
   },
   {
    "duration": 114,
    "start_time": "2023-04-09T16:48:46.579Z"
   },
   {
    "duration": 81,
    "start_time": "2023-04-09T16:48:46.695Z"
   },
   {
    "duration": 7796,
    "start_time": "2023-04-09T16:48:46.778Z"
   },
   {
    "duration": 7468,
    "start_time": "2023-04-09T16:48:54.576Z"
   },
   {
    "duration": 5393,
    "start_time": "2023-04-10T07:39:20.606Z"
   },
   {
    "duration": 1475,
    "start_time": "2023-04-10T07:39:26.001Z"
   },
   {
    "duration": 35,
    "start_time": "2023-04-10T07:39:27.477Z"
   },
   {
    "duration": 40,
    "start_time": "2023-04-10T07:39:27.514Z"
   },
   {
    "duration": 61,
    "start_time": "2023-04-10T07:39:27.556Z"
   },
   {
    "duration": 33,
    "start_time": "2023-04-10T07:39:27.618Z"
   },
   {
    "duration": 18,
    "start_time": "2023-04-10T07:39:27.652Z"
   },
   {
    "duration": 41,
    "start_time": "2023-04-10T07:39:27.672Z"
   },
   {
    "duration": 40,
    "start_time": "2023-04-10T07:39:27.714Z"
   },
   {
    "duration": 107,
    "start_time": "2023-04-10T07:39:27.757Z"
   },
   {
    "duration": 94,
    "start_time": "2023-04-10T07:39:27.866Z"
   },
   {
    "duration": 3,
    "start_time": "2023-04-10T07:39:27.962Z"
   },
   {
    "duration": 10510,
    "start_time": "2023-04-10T07:39:27.967Z"
   },
   {
    "duration": 10122,
    "start_time": "2023-04-10T07:39:38.479Z"
   },
   {
    "duration": 5,
    "start_time": "2023-04-10T07:41:36.853Z"
   },
   {
    "duration": 6036,
    "start_time": "2023-04-10T11:41:11.831Z"
   },
   {
    "duration": 1434,
    "start_time": "2023-04-10T11:41:17.869Z"
   },
   {
    "duration": 41,
    "start_time": "2023-04-10T11:41:19.305Z"
   },
   {
    "duration": 23,
    "start_time": "2023-04-10T11:41:19.348Z"
   },
   {
    "duration": 71,
    "start_time": "2023-04-10T11:41:19.372Z"
   },
   {
    "duration": 18,
    "start_time": "2023-04-10T11:41:19.445Z"
   },
   {
    "duration": 35,
    "start_time": "2023-04-10T11:41:19.464Z"
   },
   {
    "duration": 48,
    "start_time": "2023-04-10T11:41:19.500Z"
   },
   {
    "duration": 188,
    "start_time": "2023-04-10T11:41:19.549Z"
   },
   {
    "duration": 108,
    "start_time": "2023-04-10T11:41:19.740Z"
   },
   {
    "duration": 204,
    "start_time": "2023-04-10T11:41:19.850Z"
   },
   {
    "duration": 180,
    "start_time": "2023-04-10T11:41:20.056Z"
   },
   {
    "duration": 9336,
    "start_time": "2023-04-10T11:41:20.238Z"
   },
   {
    "duration": 5535,
    "start_time": "2023-04-10T11:41:29.576Z"
   },
   {
    "duration": 6,
    "start_time": "2023-04-10T11:41:35.113Z"
   },
   {
    "duration": 3442,
    "start_time": "2023-04-10T11:41:35.121Z"
   },
   {
    "duration": 3792,
    "start_time": "2023-04-10T11:49:22.056Z"
   },
   {
    "duration": 8970,
    "start_time": "2023-04-10T12:09:48.861Z"
   },
   {
    "duration": 8961,
    "start_time": "2023-04-10T12:12:05.119Z"
   },
   {
    "duration": 3857,
    "start_time": "2023-04-10T12:12:33.903Z"
   },
   {
    "duration": 53,
    "start_time": "2023-04-11T16:29:58.092Z"
   },
   {
    "duration": 5068,
    "start_time": "2023-04-11T16:30:01.235Z"
   },
   {
    "duration": 982,
    "start_time": "2023-04-11T16:30:06.305Z"
   },
   {
    "duration": 35,
    "start_time": "2023-04-11T16:30:07.288Z"
   },
   {
    "duration": 24,
    "start_time": "2023-04-11T16:30:07.325Z"
   },
   {
    "duration": 77,
    "start_time": "2023-04-11T16:30:07.350Z"
   },
   {
    "duration": 22,
    "start_time": "2023-04-11T16:30:07.429Z"
   },
   {
    "duration": 19,
    "start_time": "2023-04-11T16:30:07.452Z"
   },
   {
    "duration": 69,
    "start_time": "2023-04-11T16:30:07.472Z"
   },
   {
    "duration": 175,
    "start_time": "2023-04-11T16:30:07.542Z"
   },
   {
    "duration": 193,
    "start_time": "2023-04-11T16:30:07.720Z"
   },
   {
    "duration": 108,
    "start_time": "2023-04-11T16:30:07.915Z"
   },
   {
    "duration": 88,
    "start_time": "2023-04-11T16:30:08.025Z"
   },
   {
    "duration": 10694,
    "start_time": "2023-04-11T16:30:10.170Z"
   },
   {
    "duration": 2781,
    "start_time": "2023-04-11T16:30:20.866Z"
   },
   {
    "duration": 8333,
    "start_time": "2023-04-11T16:30:52.017Z"
   },
   {
    "duration": 339,
    "start_time": "2023-04-11T16:31:15.130Z"
   },
   {
    "duration": 397,
    "start_time": "2023-04-11T16:32:00.605Z"
   },
   {
    "duration": 95,
    "start_time": "2023-04-11T16:32:12.978Z"
   },
   {
    "duration": 278,
    "start_time": "2023-04-11T16:32:23.587Z"
   },
   {
    "duration": 365,
    "start_time": "2023-04-11T16:35:40.285Z"
   },
   {
    "duration": 274,
    "start_time": "2023-04-11T16:35:49.995Z"
   },
   {
    "duration": 370,
    "start_time": "2023-04-11T16:37:14.958Z"
   },
   {
    "duration": 311,
    "start_time": "2023-04-11T16:38:43.800Z"
   },
   {
    "duration": 367,
    "start_time": "2023-04-11T16:41:25.218Z"
   },
   {
    "duration": 273,
    "start_time": "2023-04-11T16:45:40.822Z"
   },
   {
    "duration": 379,
    "start_time": "2023-04-11T16:48:24.613Z"
   },
   {
    "duration": 265,
    "start_time": "2023-04-11T16:49:21.208Z"
   },
   {
    "duration": 3659,
    "start_time": "2023-04-11T16:49:53.269Z"
   },
   {
    "duration": 9911,
    "start_time": "2023-04-11T16:50:08.545Z"
   },
   {
    "duration": 9,
    "start_time": "2023-04-11T16:50:55.620Z"
   },
   {
    "duration": 10,
    "start_time": "2023-04-11T16:51:00.049Z"
   },
   {
    "duration": 10,
    "start_time": "2023-04-11T16:51:24.237Z"
   },
   {
    "duration": 27193,
    "start_time": "2023-04-11T16:51:37.913Z"
   },
   {
    "duration": 54366,
    "start_time": "2023-04-11T16:53:22.979Z"
   },
   {
    "duration": 53734,
    "start_time": "2023-04-11T16:56:49.127Z"
   },
   {
    "duration": 3688,
    "start_time": "2023-04-11T17:37:57.209Z"
   },
   {
    "duration": 428,
    "start_time": "2023-04-11T17:38:00.899Z"
   },
   {
    "duration": 40,
    "start_time": "2023-04-11T17:38:01.329Z"
   },
   {
    "duration": 49,
    "start_time": "2023-04-11T17:38:01.372Z"
   },
   {
    "duration": 62,
    "start_time": "2023-04-11T17:38:01.423Z"
   },
   {
    "duration": 38,
    "start_time": "2023-04-11T17:38:01.486Z"
   },
   {
    "duration": 24,
    "start_time": "2023-04-11T17:38:01.525Z"
   },
   {
    "duration": 71,
    "start_time": "2023-04-11T17:38:01.551Z"
   },
   {
    "duration": 191,
    "start_time": "2023-04-11T17:38:01.623Z"
   },
   {
    "duration": 108,
    "start_time": "2023-04-11T17:38:01.817Z"
   },
   {
    "duration": 285,
    "start_time": "2023-04-11T17:38:01.927Z"
   },
   {
    "duration": 6,
    "start_time": "2023-04-11T17:38:02.214Z"
   },
   {
    "duration": 8293,
    "start_time": "2023-04-11T17:38:02.222Z"
   },
   {
    "duration": 54775,
    "start_time": "2023-04-11T17:38:10.518Z"
   },
   {
    "duration": 401,
    "start_time": "2023-04-11T17:39:05.296Z"
   },
   {
    "duration": 0,
    "start_time": "2023-04-11T17:39:05.700Z"
   },
   {
    "duration": 0,
    "start_time": "2023-04-11T17:39:05.711Z"
   },
   {
    "duration": 0,
    "start_time": "2023-04-11T17:39:05.712Z"
   },
   {
    "duration": 9746,
    "start_time": "2023-04-11T17:39:16.828Z"
   },
   {
    "duration": 4076,
    "start_time": "2023-04-11T18:05:51.829Z"
   },
   {
    "duration": 483,
    "start_time": "2023-04-11T18:05:55.907Z"
   },
   {
    "duration": 57,
    "start_time": "2023-04-11T18:05:56.392Z"
   },
   {
    "duration": 25,
    "start_time": "2023-04-11T18:05:56.451Z"
   },
   {
    "duration": 83,
    "start_time": "2023-04-11T18:05:56.477Z"
   },
   {
    "duration": 23,
    "start_time": "2023-04-11T18:05:56.562Z"
   },
   {
    "duration": 42,
    "start_time": "2023-04-11T18:05:56.587Z"
   },
   {
    "duration": 56,
    "start_time": "2023-04-11T18:05:56.631Z"
   },
   {
    "duration": 234,
    "start_time": "2023-04-11T18:05:56.689Z"
   },
   {
    "duration": 108,
    "start_time": "2023-04-11T18:05:56.926Z"
   },
   {
    "duration": 184,
    "start_time": "2023-04-11T18:05:57.038Z"
   },
   {
    "duration": 7,
    "start_time": "2023-04-11T18:05:57.229Z"
   },
   {
    "duration": 8641,
    "start_time": "2023-04-11T18:05:57.313Z"
   },
   {
    "duration": 61735,
    "start_time": "2023-04-11T18:06:05.955Z"
   },
   {
    "duration": 449,
    "start_time": "2023-04-11T18:07:07.693Z"
   },
   {
    "duration": 0,
    "start_time": "2023-04-11T18:07:08.144Z"
   },
   {
    "duration": 0,
    "start_time": "2023-04-11T18:07:08.145Z"
   },
   {
    "duration": 2,
    "start_time": "2023-04-11T18:08:31.052Z"
   },
   {
    "duration": 405,
    "start_time": "2023-04-11T18:10:32.110Z"
   },
   {
    "duration": 320,
    "start_time": "2023-04-11T18:10:43.028Z"
   },
   {
    "duration": 4896,
    "start_time": "2023-04-11T20:11:03.897Z"
   },
   {
    "duration": 939,
    "start_time": "2023-04-11T20:11:08.795Z"
   },
   {
    "duration": 35,
    "start_time": "2023-04-11T20:11:09.735Z"
   },
   {
    "duration": 45,
    "start_time": "2023-04-11T20:11:09.773Z"
   },
   {
    "duration": 62,
    "start_time": "2023-04-11T20:11:09.820Z"
   },
   {
    "duration": 40,
    "start_time": "2023-04-11T20:11:09.884Z"
   },
   {
    "duration": 19,
    "start_time": "2023-04-11T20:11:09.925Z"
   },
   {
    "duration": 41,
    "start_time": "2023-04-11T20:11:09.945Z"
   },
   {
    "duration": 138,
    "start_time": "2023-04-11T20:11:09.988Z"
   },
   {
    "duration": 105,
    "start_time": "2023-04-11T20:11:10.217Z"
   },
   {
    "duration": 106,
    "start_time": "2023-04-11T20:11:10.324Z"
   },
   {
    "duration": 90,
    "start_time": "2023-04-11T20:11:10.432Z"
   },
   {
    "duration": 9040,
    "start_time": "2023-04-11T20:11:10.524Z"
   },
   {
    "duration": 2,
    "start_time": "2023-04-11T20:11:19.566Z"
   },
   {
    "duration": 410,
    "start_time": "2023-04-11T20:11:19.569Z"
   },
   {
    "duration": 0,
    "start_time": "2023-04-11T20:11:19.981Z"
   },
   {
    "duration": 0,
    "start_time": "2023-04-11T20:11:19.982Z"
   },
   {
    "duration": 0,
    "start_time": "2023-04-11T20:11:19.982Z"
   },
   {
    "duration": 18,
    "start_time": "2023-04-11T20:11:35.512Z"
   },
   {
    "duration": 1063,
    "start_time": "2023-04-11T20:12:04.662Z"
   },
   {
    "duration": 2183,
    "start_time": "2023-04-11T20:13:50.539Z"
   },
   {
    "duration": 2082,
    "start_time": "2023-04-11T20:13:58.175Z"
   },
   {
    "duration": 3103,
    "start_time": "2023-04-11T20:15:09.849Z"
   },
   {
    "duration": 10516,
    "start_time": "2023-04-11T20:18:28.748Z"
   },
   {
    "duration": 258,
    "start_time": "2023-04-11T20:23:58.680Z"
   },
   {
    "duration": 370,
    "start_time": "2023-04-11T20:27:17.276Z"
   },
   {
    "duration": 2955,
    "start_time": "2023-04-11T20:27:28.238Z"
   },
   {
    "duration": 2999,
    "start_time": "2023-04-11T20:27:53.913Z"
   },
   {
    "duration": 2639,
    "start_time": "2023-04-11T20:29:33.355Z"
   },
   {
    "duration": 27,
    "start_time": "2023-04-11T20:29:41.852Z"
   },
   {
    "duration": 2550,
    "start_time": "2023-04-11T20:34:18.820Z"
   },
   {
    "duration": 1726,
    "start_time": "2023-04-11T20:38:45.809Z"
   },
   {
    "duration": 1764,
    "start_time": "2023-04-11T20:41:23.695Z"
   },
   {
    "duration": 2032,
    "start_time": "2023-04-11T20:42:32.963Z"
   },
   {
    "duration": 2014,
    "start_time": "2023-04-11T20:43:03.483Z"
   },
   {
    "duration": 2330,
    "start_time": "2023-04-11T20:45:40.245Z"
   },
   {
    "duration": 2411,
    "start_time": "2023-04-11T20:46:16.077Z"
   },
   {
    "duration": 2254,
    "start_time": "2023-04-11T20:46:33.567Z"
   },
   {
    "duration": 1813,
    "start_time": "2023-04-11T20:47:06.226Z"
   },
   {
    "duration": 30331,
    "start_time": "2023-04-11T20:47:30.244Z"
   },
   {
    "duration": 10164,
    "start_time": "2023-04-11T20:48:58.195Z"
   },
   {
    "duration": 2640,
    "start_time": "2023-04-11T20:50:13.128Z"
   },
   {
    "duration": 105,
    "start_time": "2023-04-11T20:56:18.034Z"
   },
   {
    "duration": 367,
    "start_time": "2023-04-11T20:56:23.915Z"
   },
   {
    "duration": 3929,
    "start_time": "2023-04-11T20:57:16.196Z"
   },
   {
    "duration": 4,
    "start_time": "2023-04-11T21:00:23.123Z"
   },
   {
    "duration": 6,
    "start_time": "2023-04-11T21:00:35.754Z"
   },
   {
    "duration": 5,
    "start_time": "2023-04-11T21:00:44.040Z"
   },
   {
    "duration": 9,
    "start_time": "2023-04-11T21:01:11.292Z"
   },
   {
    "duration": 1721,
    "start_time": "2023-04-11T21:05:58.609Z"
   },
   {
    "duration": 3012,
    "start_time": "2023-04-11T21:06:04.908Z"
   },
   {
    "duration": 3013,
    "start_time": "2023-04-11T21:06:24.511Z"
   },
   {
    "duration": 6,
    "start_time": "2023-04-11T21:09:42.302Z"
   },
   {
    "duration": 277,
    "start_time": "2023-04-11T21:10:29.745Z"
   },
   {
    "duration": 401,
    "start_time": "2023-04-11T21:10:53.378Z"
   },
   {
    "duration": 2835,
    "start_time": "2023-04-11T21:11:12.792Z"
   },
   {
    "duration": 3373,
    "start_time": "2023-04-11T21:15:41.674Z"
   },
   {
    "duration": 360,
    "start_time": "2023-04-11T21:16:35.164Z"
   },
   {
    "duration": 3353,
    "start_time": "2023-04-11T21:16:45.242Z"
   },
   {
    "duration": 3072,
    "start_time": "2023-04-11T21:18:53.681Z"
   },
   {
    "duration": 2817,
    "start_time": "2023-04-11T21:19:05.133Z"
   },
   {
    "duration": 2670,
    "start_time": "2023-04-11T21:19:12.112Z"
   },
   {
    "duration": 2670,
    "start_time": "2023-04-11T21:19:19.199Z"
   },
   {
    "duration": 25,
    "start_time": "2023-04-11T21:19:39.127Z"
   },
   {
    "duration": 2904,
    "start_time": "2023-04-11T21:19:51.052Z"
   },
   {
    "duration": 27,
    "start_time": "2023-04-11T21:19:57.790Z"
   },
   {
    "duration": 4951,
    "start_time": "2023-04-14T22:19:13.384Z"
   },
   {
    "duration": 1591,
    "start_time": "2023-04-14T22:19:18.337Z"
   },
   {
    "duration": 40,
    "start_time": "2023-04-14T22:19:21.091Z"
   },
   {
    "duration": 24,
    "start_time": "2023-04-14T22:19:21.575Z"
   },
   {
    "duration": 59,
    "start_time": "2023-04-14T22:19:22.414Z"
   },
   {
    "duration": 30,
    "start_time": "2023-04-14T22:19:23.283Z"
   },
   {
    "duration": 21,
    "start_time": "2023-04-14T22:19:25.078Z"
   },
   {
    "duration": 53,
    "start_time": "2023-04-14T22:19:25.934Z"
   },
   {
    "duration": 200,
    "start_time": "2023-04-14T22:19:28.490Z"
   },
   {
    "duration": 26,
    "start_time": "2023-04-14T22:19:40.620Z"
   },
   {
    "duration": 20,
    "start_time": "2023-04-14T22:19:55.359Z"
   },
   {
    "duration": 29,
    "start_time": "2023-04-14T22:20:08.857Z"
   },
   {
    "duration": 135,
    "start_time": "2023-04-14T22:30:44.722Z"
   },
   {
    "duration": 49,
    "start_time": "2023-04-14T22:31:09.748Z"
   },
   {
    "duration": 19,
    "start_time": "2023-04-14T22:31:10.770Z"
   },
   {
    "duration": 19,
    "start_time": "2023-04-14T22:31:11.403Z"
   },
   {
    "duration": 18,
    "start_time": "2023-04-14T22:31:18.004Z"
   },
   {
    "duration": 14,
    "start_time": "2023-04-14T22:34:03.222Z"
   },
   {
    "duration": 13,
    "start_time": "2023-04-14T22:34:48.757Z"
   },
   {
    "duration": 17,
    "start_time": "2023-04-14T22:34:59.157Z"
   },
   {
    "duration": 11,
    "start_time": "2023-04-14T22:39:35.963Z"
   },
   {
    "duration": 11,
    "start_time": "2023-04-14T22:39:39.841Z"
   },
   {
    "duration": 5,
    "start_time": "2023-04-14T22:39:59.315Z"
   },
   {
    "duration": 5173,
    "start_time": "2023-04-15T13:43:00.569Z"
   },
   {
    "duration": 931,
    "start_time": "2023-04-15T13:43:05.744Z"
   },
   {
    "duration": 39,
    "start_time": "2023-04-15T13:43:06.676Z"
   },
   {
    "duration": 23,
    "start_time": "2023-04-15T13:43:06.717Z"
   },
   {
    "duration": 75,
    "start_time": "2023-04-15T13:43:06.742Z"
   },
   {
    "duration": 20,
    "start_time": "2023-04-15T13:43:06.819Z"
   },
   {
    "duration": 19,
    "start_time": "2023-04-15T13:43:06.840Z"
   },
   {
    "duration": 70,
    "start_time": "2023-04-15T13:43:06.861Z"
   },
   {
    "duration": 125,
    "start_time": "2023-04-15T13:43:06.932Z"
   },
   {
    "duration": 0,
    "start_time": "2023-04-15T13:43:07.058Z"
   },
   {
    "duration": 0,
    "start_time": "2023-04-15T13:43:07.060Z"
   },
   {
    "duration": 0,
    "start_time": "2023-04-15T13:43:07.061Z"
   },
   {
    "duration": 11,
    "start_time": "2023-04-15T13:43:14.753Z"
   },
   {
    "duration": 10,
    "start_time": "2023-04-15T13:43:36.885Z"
   },
   {
    "duration": 11,
    "start_time": "2023-04-15T13:43:51.279Z"
   },
   {
    "duration": 94,
    "start_time": "2023-04-15T13:43:56.635Z"
   },
   {
    "duration": 28,
    "start_time": "2023-04-15T13:43:59.577Z"
   },
   {
    "duration": 20,
    "start_time": "2023-04-15T13:44:01.882Z"
   },
   {
    "duration": 14,
    "start_time": "2023-04-15T13:44:09.259Z"
   },
   {
    "duration": 37,
    "start_time": "2023-04-15T13:49:46.109Z"
   },
   {
    "duration": 11,
    "start_time": "2023-04-15T13:50:29.365Z"
   },
   {
    "duration": 22,
    "start_time": "2023-04-15T13:50:38.307Z"
   },
   {
    "duration": 4,
    "start_time": "2023-04-15T13:50:45.876Z"
   },
   {
    "duration": 30,
    "start_time": "2023-04-15T13:50:53.740Z"
   },
   {
    "duration": 22,
    "start_time": "2023-04-15T13:51:02.879Z"
   },
   {
    "duration": 1067,
    "start_time": "2023-04-15T13:51:09.716Z"
   },
   {
    "duration": 1064,
    "start_time": "2023-04-15T13:51:24.807Z"
   },
   {
    "duration": 1006,
    "start_time": "2023-04-15T13:51:54.771Z"
   },
   {
    "duration": 1008,
    "start_time": "2023-04-15T13:52:26.444Z"
   },
   {
    "duration": 1080,
    "start_time": "2023-04-15T13:52:49.081Z"
   },
   {
    "duration": 1051,
    "start_time": "2023-04-15T13:53:04.472Z"
   },
   {
    "duration": 1032,
    "start_time": "2023-04-15T13:53:20.582Z"
   },
   {
    "duration": 11,
    "start_time": "2023-04-15T13:54:12.249Z"
   },
   {
    "duration": 12,
    "start_time": "2023-04-15T13:57:11.277Z"
   },
   {
    "duration": 12,
    "start_time": "2023-04-15T13:57:25.382Z"
   },
   {
    "duration": 961,
    "start_time": "2023-04-15T13:57:32.426Z"
   },
   {
    "duration": 1052,
    "start_time": "2023-04-15T13:57:58.793Z"
   },
   {
    "duration": 987,
    "start_time": "2023-04-15T13:58:13.875Z"
   },
   {
    "duration": 1002,
    "start_time": "2023-04-15T13:58:48.997Z"
   },
   {
    "duration": 911,
    "start_time": "2023-04-15T13:59:22.060Z"
   },
   {
    "duration": 2146,
    "start_time": "2023-04-15T13:59:37.561Z"
   },
   {
    "duration": 2128,
    "start_time": "2023-04-15T13:59:47.701Z"
   },
   {
    "duration": 2063,
    "start_time": "2023-04-15T14:00:02.120Z"
   },
   {
    "duration": 2070,
    "start_time": "2023-04-15T14:00:41.454Z"
   },
   {
    "duration": 3069,
    "start_time": "2023-04-15T14:00:57.190Z"
   },
   {
    "duration": 2988,
    "start_time": "2023-04-15T14:01:16.072Z"
   },
   {
    "duration": 2960,
    "start_time": "2023-04-15T14:01:24.483Z"
   },
   {
    "duration": 72,
    "start_time": "2023-04-15T14:03:45.833Z"
   },
   {
    "duration": 12,
    "start_time": "2023-04-15T14:07:05.796Z"
   },
   {
    "duration": 907,
    "start_time": "2023-04-15T14:07:12.364Z"
   },
   {
    "duration": 933,
    "start_time": "2023-04-15T14:07:18.655Z"
   },
   {
    "duration": 933,
    "start_time": "2023-04-15T14:07:29.030Z"
   },
   {
    "duration": 4540,
    "start_time": "2023-04-15T18:20:55.007Z"
   },
   {
    "duration": 877,
    "start_time": "2023-04-15T18:20:59.549Z"
   },
   {
    "duration": 32,
    "start_time": "2023-04-15T18:21:00.427Z"
   },
   {
    "duration": 20,
    "start_time": "2023-04-15T18:21:00.460Z"
   },
   {
    "duration": 70,
    "start_time": "2023-04-15T18:21:00.481Z"
   },
   {
    "duration": 22,
    "start_time": "2023-04-15T18:21:00.553Z"
   },
   {
    "duration": 38,
    "start_time": "2023-04-15T18:21:00.576Z"
   },
   {
    "duration": 67,
    "start_time": "2023-04-15T18:21:00.615Z"
   },
   {
    "duration": 70,
    "start_time": "2023-04-15T18:21:00.684Z"
   },
   {
    "duration": 201,
    "start_time": "2023-04-15T18:21:00.756Z"
   },
   {
    "duration": 187,
    "start_time": "2023-04-15T18:21:00.960Z"
   },
   {
    "duration": 87,
    "start_time": "2023-04-15T18:21:01.152Z"
   },
   {
    "duration": 7684,
    "start_time": "2023-04-15T18:21:01.240Z"
   },
   {
    "duration": 4269,
    "start_time": "2023-04-15T18:21:08.927Z"
   },
   {
    "duration": 5,
    "start_time": "2023-04-15T18:21:13.197Z"
   },
   {
    "duration": 2539,
    "start_time": "2023-04-15T18:21:13.203Z"
   },
   {
    "duration": 957,
    "start_time": "2023-04-15T18:21:15.743Z"
   },
   {
    "duration": 2623,
    "start_time": "2023-04-15T18:21:16.702Z"
   },
   {
    "duration": 831,
    "start_time": "2023-04-15T18:21:19.327Z"
   },
   {
    "duration": 3712,
    "start_time": "2023-04-15T18:21:20.162Z"
   },
   {
    "duration": 17,
    "start_time": "2023-04-15T18:22:38.346Z"
   },
   {
    "duration": 8008,
    "start_time": "2023-04-15T18:24:50.430Z"
   },
   {
    "duration": 3684,
    "start_time": "2023-04-15T18:28:41.739Z"
   },
   {
    "duration": 3852,
    "start_time": "2023-04-15T18:28:59.733Z"
   },
   {
    "duration": 3789,
    "start_time": "2023-04-15T18:29:30.246Z"
   },
   {
    "duration": 3864,
    "start_time": "2023-04-15T18:30:25.853Z"
   },
   {
    "duration": 4009,
    "start_time": "2023-04-15T18:30:30.423Z"
   },
   {
    "duration": 3679,
    "start_time": "2023-04-15T18:32:18.498Z"
   },
   {
    "duration": 3523,
    "start_time": "2023-04-15T18:32:38.618Z"
   },
   {
    "duration": 3673,
    "start_time": "2023-04-15T18:33:50.926Z"
   },
   {
    "duration": 3865,
    "start_time": "2023-04-15T18:38:12.238Z"
   },
   {
    "duration": 4115,
    "start_time": "2023-04-15T18:38:27.043Z"
   },
   {
    "duration": 3510,
    "start_time": "2023-04-15T18:38:35.942Z"
   },
   {
    "duration": 3692,
    "start_time": "2023-04-15T18:38:59.951Z"
   },
   {
    "duration": 4839,
    "start_time": "2023-04-15T18:51:31.142Z"
   },
   {
    "duration": 6077,
    "start_time": "2023-04-15T18:51:39.061Z"
   },
   {
    "duration": 3493,
    "start_time": "2023-04-15T18:57:29.745Z"
   },
   {
    "duration": 4034,
    "start_time": "2023-04-15T19:13:12.956Z"
   },
   {
    "duration": 324,
    "start_time": "2023-04-15T19:14:03.738Z"
   },
   {
    "duration": 577,
    "start_time": "2023-04-15T19:15:26.030Z"
   },
   {
    "duration": 574,
    "start_time": "2023-04-15T19:15:51.778Z"
   },
   {
    "duration": 577,
    "start_time": "2023-04-15T19:17:07.035Z"
   },
   {
    "duration": 4,
    "start_time": "2023-04-15T19:21:51.621Z"
   },
   {
    "duration": 9,
    "start_time": "2023-04-15T19:22:48.851Z"
   },
   {
    "duration": 752,
    "start_time": "2023-04-15T19:22:51.619Z"
   },
   {
    "duration": 13,
    "start_time": "2023-04-15T19:23:02.750Z"
   },
   {
    "duration": 34,
    "start_time": "2023-04-15T19:23:26.947Z"
   },
   {
    "duration": 9,
    "start_time": "2023-04-15T19:23:34.521Z"
   },
   {
    "duration": 3,
    "start_time": "2023-04-15T19:23:52.074Z"
   },
   {
    "duration": 9,
    "start_time": "2023-04-15T19:24:30.435Z"
   },
   {
    "duration": 541,
    "start_time": "2023-04-15T19:32:36.058Z"
   },
   {
    "duration": 531,
    "start_time": "2023-04-15T19:35:37.828Z"
   },
   {
    "duration": 1242,
    "start_time": "2023-04-15T19:36:46.723Z"
   },
   {
    "duration": 7,
    "start_time": "2023-04-15T19:37:11.748Z"
   },
   {
    "duration": 511,
    "start_time": "2023-04-15T19:37:38.154Z"
   },
   {
    "duration": 34,
    "start_time": "2023-04-15T19:38:07.419Z"
   },
   {
    "duration": 584,
    "start_time": "2023-04-15T19:38:27.407Z"
   },
   {
    "duration": 599,
    "start_time": "2023-04-15T19:39:15.209Z"
   },
   {
    "duration": 2050,
    "start_time": "2023-04-15T19:41:31.405Z"
   },
   {
    "duration": 532,
    "start_time": "2023-04-15T19:43:04.042Z"
   },
   {
    "duration": 552,
    "start_time": "2023-04-15T19:43:33.726Z"
   },
   {
    "duration": 532,
    "start_time": "2023-04-15T19:45:47.922Z"
   },
   {
    "duration": 534,
    "start_time": "2023-04-15T19:49:06.316Z"
   },
   {
    "duration": 49,
    "start_time": "2023-04-15T19:50:00.078Z"
   },
   {
    "duration": 23,
    "start_time": "2023-04-15T19:50:13.129Z"
   },
   {
    "duration": 23,
    "start_time": "2023-04-15T19:50:30.637Z"
   },
   {
    "duration": 16,
    "start_time": "2023-04-15T19:52:48.406Z"
   },
   {
    "duration": 9,
    "start_time": "2023-04-15T19:53:01.827Z"
   },
   {
    "duration": 10,
    "start_time": "2023-04-15T19:53:21.818Z"
   },
   {
    "duration": 13,
    "start_time": "2023-04-15T19:53:43.313Z"
   },
   {
    "duration": 20,
    "start_time": "2023-04-15T19:55:10.521Z"
   },
   {
    "duration": 7,
    "start_time": "2023-04-15T19:55:22.213Z"
   },
   {
    "duration": 19,
    "start_time": "2023-04-15T19:57:59.842Z"
   },
   {
    "duration": 10,
    "start_time": "2023-04-15T19:58:22.283Z"
   },
   {
    "duration": 17,
    "start_time": "2023-04-15T19:58:42.069Z"
   },
   {
    "duration": 6,
    "start_time": "2023-04-15T20:00:04.425Z"
   },
   {
    "duration": 6,
    "start_time": "2023-04-15T20:00:33.125Z"
   },
   {
    "duration": 22,
    "start_time": "2023-04-15T20:02:38.229Z"
   },
   {
    "duration": 5,
    "start_time": "2023-04-15T20:10:15.314Z"
   },
   {
    "duration": 5,
    "start_time": "2023-04-15T20:10:51.116Z"
   },
   {
    "duration": 5,
    "start_time": "2023-04-15T20:10:56.924Z"
   },
   {
    "duration": 556,
    "start_time": "2023-04-15T20:13:06.529Z"
   },
   {
    "duration": 552,
    "start_time": "2023-04-15T20:14:26.830Z"
   },
   {
    "duration": 531,
    "start_time": "2023-04-15T20:14:56.428Z"
   },
   {
    "duration": 533,
    "start_time": "2023-04-15T20:15:43.808Z"
   },
   {
    "duration": 648,
    "start_time": "2023-04-15T20:18:14.721Z"
   },
   {
    "duration": 20,
    "start_time": "2023-04-15T20:19:24.473Z"
   },
   {
    "duration": 23,
    "start_time": "2023-04-15T20:20:24.932Z"
   },
   {
    "duration": 612,
    "start_time": "2023-04-15T20:21:05.721Z"
   },
   {
    "duration": 498,
    "start_time": "2023-04-15T20:23:38.935Z"
   },
   {
    "duration": 82,
    "start_time": "2023-04-15T20:25:18.232Z"
   },
   {
    "duration": 588,
    "start_time": "2023-04-15T20:25:37.038Z"
   },
   {
    "duration": 19,
    "start_time": "2023-04-15T20:27:02.324Z"
   },
   {
    "duration": 609,
    "start_time": "2023-04-15T20:29:19.551Z"
   },
   {
    "duration": 595,
    "start_time": "2023-04-15T20:29:47.408Z"
   },
   {
    "duration": 13,
    "start_time": "2023-04-15T20:29:51.327Z"
   },
   {
    "duration": 584,
    "start_time": "2023-04-15T20:30:22.710Z"
   },
   {
    "duration": 13,
    "start_time": "2023-04-15T20:30:25.659Z"
   },
   {
    "duration": 645,
    "start_time": "2023-04-15T20:30:31.313Z"
   },
   {
    "duration": 5,
    "start_time": "2023-04-15T20:30:34.124Z"
   },
   {
    "duration": 7843,
    "start_time": "2023-04-15T20:32:59.604Z"
   },
   {
    "duration": 10,
    "start_time": "2023-04-15T20:34:09.947Z"
   },
   {
    "duration": 10,
    "start_time": "2023-04-15T20:34:18.433Z"
   },
   {
    "duration": 7260,
    "start_time": "2023-04-15T20:34:43.518Z"
   },
   {
    "duration": 3,
    "start_time": "2023-04-15T20:34:53.700Z"
   },
   {
    "duration": 9,
    "start_time": "2023-04-15T20:35:33.772Z"
   },
   {
    "duration": 4,
    "start_time": "2023-04-15T20:38:33.149Z"
   },
   {
    "duration": 4,
    "start_time": "2023-04-15T20:38:36.889Z"
   },
   {
    "duration": 4,
    "start_time": "2023-04-15T20:38:40.021Z"
   },
   {
    "duration": 5,
    "start_time": "2023-04-15T20:38:42.386Z"
   },
   {
    "duration": 10,
    "start_time": "2023-04-15T20:38:46.347Z"
   },
   {
    "duration": 13,
    "start_time": "2023-04-15T20:38:51.502Z"
   },
   {
    "duration": 4,
    "start_time": "2023-04-15T20:38:56.472Z"
   },
   {
    "duration": 31,
    "start_time": "2023-04-15T20:47:13.827Z"
   },
   {
    "duration": 1107,
    "start_time": "2023-04-15T20:48:54.857Z"
   },
   {
    "duration": 17,
    "start_time": "2023-04-15T20:49:41.407Z"
   },
   {
    "duration": 17,
    "start_time": "2023-04-15T20:52:45.033Z"
   },
   {
    "duration": 17,
    "start_time": "2023-04-15T20:52:53.472Z"
   },
   {
    "duration": 565,
    "start_time": "2023-04-15T20:52:59.701Z"
   },
   {
    "duration": 80,
    "start_time": "2023-04-15T20:55:04.349Z"
   },
   {
    "duration": 527,
    "start_time": "2023-04-15T20:58:50.144Z"
   },
   {
    "duration": 34,
    "start_time": "2023-04-15T21:01:41.903Z"
   },
   {
    "duration": 19,
    "start_time": "2023-04-15T21:01:44.187Z"
   },
   {
    "duration": 16,
    "start_time": "2023-04-15T21:01:45.587Z"
   },
   {
    "duration": 17,
    "start_time": "2023-04-15T21:01:46.303Z"
   },
   {
    "duration": 573,
    "start_time": "2023-04-15T21:01:53.564Z"
   },
   {
    "duration": 7,
    "start_time": "2023-04-15T21:02:30.167Z"
   },
   {
    "duration": 3,
    "start_time": "2023-04-15T21:06:29.912Z"
   },
   {
    "duration": 3,
    "start_time": "2023-04-15T21:06:41.043Z"
   },
   {
    "duration": 3,
    "start_time": "2023-04-15T21:06:54.326Z"
   },
   {
    "duration": 9,
    "start_time": "2023-04-15T21:07:30.363Z"
   },
   {
    "duration": 4,
    "start_time": "2023-04-15T21:07:36.390Z"
   },
   {
    "duration": 12,
    "start_time": "2023-04-15T21:08:26.235Z"
   },
   {
    "duration": 507,
    "start_time": "2023-04-15T21:08:37.974Z"
   },
   {
    "duration": 4,
    "start_time": "2023-04-15T21:09:18.083Z"
   },
   {
    "duration": 4,
    "start_time": "2023-04-15T21:09:31.259Z"
   },
   {
    "duration": 4,
    "start_time": "2023-04-15T21:10:44.455Z"
   },
   {
    "duration": 3,
    "start_time": "2023-04-15T21:10:52.647Z"
   },
   {
    "duration": 4,
    "start_time": "2023-04-15T21:10:58.047Z"
   },
   {
    "duration": 4,
    "start_time": "2023-04-15T21:11:01.691Z"
   },
   {
    "duration": 6,
    "start_time": "2023-04-15T21:11:29.877Z"
   },
   {
    "duration": 17,
    "start_time": "2023-04-15T21:11:45.687Z"
   },
   {
    "duration": 5,
    "start_time": "2023-04-15T21:12:31.695Z"
   },
   {
    "duration": 17,
    "start_time": "2023-04-15T21:12:32.807Z"
   },
   {
    "duration": 7,
    "start_time": "2023-04-15T21:13:23.046Z"
   },
   {
    "duration": 16,
    "start_time": "2023-04-15T21:13:28.295Z"
   },
   {
    "duration": 6,
    "start_time": "2023-04-15T21:14:07.060Z"
   },
   {
    "duration": 11,
    "start_time": "2023-04-15T21:15:52.952Z"
   },
   {
    "duration": 13,
    "start_time": "2023-04-15T21:15:57.814Z"
   },
   {
    "duration": 16,
    "start_time": "2023-04-15T21:16:33.607Z"
   },
   {
    "duration": 475,
    "start_time": "2023-04-15T21:22:00.107Z"
   },
   {
    "duration": 548,
    "start_time": "2023-04-15T21:22:15.374Z"
   },
   {
    "duration": 452,
    "start_time": "2023-04-15T21:22:50.529Z"
   },
   {
    "duration": 448,
    "start_time": "2023-04-15T21:24:50.220Z"
   },
   {
    "duration": 13,
    "start_time": "2023-04-15T21:25:38.450Z"
   },
   {
    "duration": 1208,
    "start_time": "2023-04-15T21:25:44.323Z"
   },
   {
    "duration": 1204,
    "start_time": "2023-04-15T21:25:50.235Z"
   },
   {
    "duration": 1204,
    "start_time": "2023-04-15T21:28:24.385Z"
   },
   {
    "duration": 1228,
    "start_time": "2023-04-15T21:28:52.377Z"
   },
   {
    "duration": 1289,
    "start_time": "2023-04-15T21:29:13.738Z"
   },
   {
    "duration": 1173,
    "start_time": "2023-04-15T21:29:58.754Z"
   },
   {
    "duration": 1177,
    "start_time": "2023-04-15T21:30:03.979Z"
   },
   {
    "duration": 3539,
    "start_time": "2023-04-15T21:35:01.629Z"
   },
   {
    "duration": 579,
    "start_time": "2023-04-15T21:36:26.677Z"
   },
   {
    "duration": 499,
    "start_time": "2023-04-15T21:36:42.756Z"
   },
   {
    "duration": 49234,
    "start_time": "2023-04-15T21:37:04.749Z"
   },
   {
    "duration": 186671,
    "start_time": "2023-04-15T21:38:30.257Z"
   },
   {
    "duration": 7,
    "start_time": "2023-04-15T21:41:45.668Z"
   },
   {
    "duration": 5,
    "start_time": "2023-04-15T21:42:36.474Z"
   },
   {
    "duration": 3593,
    "start_time": "2023-04-15T21:42:40.221Z"
   },
   {
    "duration": 4922,
    "start_time": "2023-04-15T21:45:02.979Z"
   },
   {
    "duration": 12,
    "start_time": "2023-04-15T21:46:17.936Z"
   },
   {
    "duration": 3931,
    "start_time": "2023-04-15T21:46:23.851Z"
   },
   {
    "duration": 6,
    "start_time": "2023-04-15T21:47:20.799Z"
   },
   {
    "duration": 34,
    "start_time": "2023-04-15T21:47:33.229Z"
   },
   {
    "duration": 10,
    "start_time": "2023-04-15T21:47:37.691Z"
   },
   {
    "duration": 8,
    "start_time": "2023-04-15T21:47:49.975Z"
   },
   {
    "duration": 36,
    "start_time": "2023-04-15T21:47:56.481Z"
   },
   {
    "duration": 10,
    "start_time": "2023-04-15T21:48:01.206Z"
   },
   {
    "duration": 3374,
    "start_time": "2023-04-15T21:48:27.349Z"
   },
   {
    "duration": 379,
    "start_time": "2023-04-15T21:48:30.725Z"
   },
   {
    "duration": 39,
    "start_time": "2023-04-15T21:48:31.105Z"
   },
   {
    "duration": 21,
    "start_time": "2023-04-15T21:48:31.146Z"
   },
   {
    "duration": 77,
    "start_time": "2023-04-15T21:48:31.168Z"
   },
   {
    "duration": 18,
    "start_time": "2023-04-15T21:48:31.247Z"
   },
   {
    "duration": 20,
    "start_time": "2023-04-15T21:48:31.267Z"
   },
   {
    "duration": 58,
    "start_time": "2023-04-15T21:48:31.288Z"
   },
   {
    "duration": 98,
    "start_time": "2023-04-15T21:48:31.347Z"
   },
   {
    "duration": 190,
    "start_time": "2023-04-15T21:48:31.447Z"
   },
   {
    "duration": 106,
    "start_time": "2023-04-15T21:48:31.639Z"
   },
   {
    "duration": 89,
    "start_time": "2023-04-15T21:48:31.747Z"
   },
   {
    "duration": 218,
    "start_time": "2023-04-15T21:48:31.839Z"
   },
   {
    "duration": 0,
    "start_time": "2023-04-15T21:48:32.058Z"
   },
   {
    "duration": 0,
    "start_time": "2023-04-15T21:48:32.060Z"
   },
   {
    "duration": 0,
    "start_time": "2023-04-15T21:48:32.060Z"
   },
   {
    "duration": 0,
    "start_time": "2023-04-15T21:48:32.062Z"
   },
   {
    "duration": 0,
    "start_time": "2023-04-15T21:48:32.063Z"
   },
   {
    "duration": 0,
    "start_time": "2023-04-15T21:48:32.064Z"
   },
   {
    "duration": 0,
    "start_time": "2023-04-15T21:48:32.065Z"
   },
   {
    "duration": 0,
    "start_time": "2023-04-15T21:48:32.066Z"
   },
   {
    "duration": 0,
    "start_time": "2023-04-15T21:48:32.067Z"
   },
   {
    "duration": 3154,
    "start_time": "2023-04-15T21:49:58.238Z"
   },
   {
    "duration": 346,
    "start_time": "2023-04-15T21:50:01.395Z"
   },
   {
    "duration": 33,
    "start_time": "2023-04-15T21:50:01.742Z"
   },
   {
    "duration": 19,
    "start_time": "2023-04-15T21:50:01.777Z"
   },
   {
    "duration": 72,
    "start_time": "2023-04-15T21:50:01.797Z"
   },
   {
    "duration": 17,
    "start_time": "2023-04-15T21:50:01.871Z"
   },
   {
    "duration": 53,
    "start_time": "2023-04-15T21:50:01.890Z"
   },
   {
    "duration": 66,
    "start_time": "2023-04-15T21:50:01.944Z"
   },
   {
    "duration": 131,
    "start_time": "2023-04-15T21:50:02.011Z"
   },
   {
    "duration": 198,
    "start_time": "2023-04-15T21:50:02.148Z"
   },
   {
    "duration": 190,
    "start_time": "2023-04-15T21:50:02.348Z"
   },
   {
    "duration": 4,
    "start_time": "2023-04-15T21:50:02.540Z"
   },
   {
    "duration": 105,
    "start_time": "2023-04-15T21:50:02.546Z"
   },
   {
    "duration": 3562,
    "start_time": "2023-04-15T21:50:02.654Z"
   },
   {
    "duration": 625,
    "start_time": "2023-04-15T21:50:06.217Z"
   },
   {
    "duration": 0,
    "start_time": "2023-04-15T21:50:06.844Z"
   },
   {
    "duration": 0,
    "start_time": "2023-04-15T21:50:06.845Z"
   },
   {
    "duration": 0,
    "start_time": "2023-04-15T21:50:06.846Z"
   },
   {
    "duration": 0,
    "start_time": "2023-04-15T21:50:06.847Z"
   },
   {
    "duration": 0,
    "start_time": "2023-04-15T21:50:06.849Z"
   },
   {
    "duration": 0,
    "start_time": "2023-04-15T21:50:06.850Z"
   },
   {
    "duration": 0,
    "start_time": "2023-04-15T21:50:06.851Z"
   },
   {
    "duration": 3185,
    "start_time": "2023-04-15T21:51:17.153Z"
   },
   {
    "duration": 349,
    "start_time": "2023-04-15T21:51:20.340Z"
   },
   {
    "duration": 30,
    "start_time": "2023-04-15T21:51:20.691Z"
   },
   {
    "duration": 32,
    "start_time": "2023-04-15T21:51:20.723Z"
   },
   {
    "duration": 82,
    "start_time": "2023-04-15T21:51:20.756Z"
   },
   {
    "duration": 33,
    "start_time": "2023-04-15T21:51:20.839Z"
   },
   {
    "duration": 19,
    "start_time": "2023-04-15T21:51:20.874Z"
   },
   {
    "duration": 52,
    "start_time": "2023-04-15T21:51:20.895Z"
   },
   {
    "duration": 97,
    "start_time": "2023-04-15T21:51:20.948Z"
   },
   {
    "duration": 102,
    "start_time": "2023-04-15T21:51:21.138Z"
   },
   {
    "duration": 100,
    "start_time": "2023-04-15T21:51:21.242Z"
   },
   {
    "duration": 4,
    "start_time": "2023-04-15T21:51:21.344Z"
   },
   {
    "duration": 185,
    "start_time": "2023-04-15T21:51:21.350Z"
   },
   {
    "duration": 3419,
    "start_time": "2023-04-15T21:51:21.537Z"
   },
   {
    "duration": 622,
    "start_time": "2023-04-15T21:51:24.957Z"
   },
   {
    "duration": 0,
    "start_time": "2023-04-15T21:51:25.581Z"
   },
   {
    "duration": 0,
    "start_time": "2023-04-15T21:51:25.582Z"
   },
   {
    "duration": 0,
    "start_time": "2023-04-15T21:51:25.583Z"
   },
   {
    "duration": 0,
    "start_time": "2023-04-15T21:51:25.584Z"
   },
   {
    "duration": 0,
    "start_time": "2023-04-15T21:51:25.585Z"
   },
   {
    "duration": 0,
    "start_time": "2023-04-15T21:51:25.586Z"
   },
   {
    "duration": 0,
    "start_time": "2023-04-15T21:51:25.587Z"
   },
   {
    "duration": 2996,
    "start_time": "2023-04-15T21:53:44.695Z"
   },
   {
    "duration": 347,
    "start_time": "2023-04-15T21:53:47.692Z"
   },
   {
    "duration": 29,
    "start_time": "2023-04-15T21:53:48.041Z"
   },
   {
    "duration": 19,
    "start_time": "2023-04-15T21:53:48.071Z"
   },
   {
    "duration": 70,
    "start_time": "2023-04-15T21:53:48.091Z"
   },
   {
    "duration": 19,
    "start_time": "2023-04-15T21:53:48.162Z"
   },
   {
    "duration": 16,
    "start_time": "2023-04-15T21:53:48.182Z"
   },
   {
    "duration": 60,
    "start_time": "2023-04-15T21:53:48.200Z"
   },
   {
    "duration": 175,
    "start_time": "2023-04-15T21:53:48.262Z"
   },
   {
    "duration": 103,
    "start_time": "2023-04-15T21:53:48.439Z"
   },
   {
    "duration": 99,
    "start_time": "2023-04-15T21:53:48.544Z"
   },
   {
    "duration": 94,
    "start_time": "2023-04-15T21:53:48.644Z"
   },
   {
    "duration": 104,
    "start_time": "2023-04-15T21:53:48.740Z"
   },
   {
    "duration": 3380,
    "start_time": "2023-04-15T21:53:48.847Z"
   },
   {
    "duration": 695,
    "start_time": "2023-04-15T21:53:52.228Z"
   },
   {
    "duration": 0,
    "start_time": "2023-04-15T21:53:52.924Z"
   },
   {
    "duration": 1,
    "start_time": "2023-04-15T21:53:52.925Z"
   },
   {
    "duration": 0,
    "start_time": "2023-04-15T21:53:52.926Z"
   },
   {
    "duration": 0,
    "start_time": "2023-04-15T21:53:52.928Z"
   },
   {
    "duration": 0,
    "start_time": "2023-04-15T21:53:52.929Z"
   },
   {
    "duration": 0,
    "start_time": "2023-04-15T21:53:52.936Z"
   },
   {
    "duration": 0,
    "start_time": "2023-04-15T21:53:52.937Z"
   },
   {
    "duration": 10,
    "start_time": "2023-04-15T21:54:20.381Z"
   },
   {
    "duration": 3088,
    "start_time": "2023-04-15T21:54:43.037Z"
   },
   {
    "duration": 346,
    "start_time": "2023-04-15T21:54:46.127Z"
   },
   {
    "duration": 30,
    "start_time": "2023-04-15T21:54:46.474Z"
   },
   {
    "duration": 32,
    "start_time": "2023-04-15T21:54:46.506Z"
   },
   {
    "duration": 50,
    "start_time": "2023-04-15T21:54:46.540Z"
   },
   {
    "duration": 18,
    "start_time": "2023-04-15T21:54:46.591Z"
   },
   {
    "duration": 36,
    "start_time": "2023-04-15T21:54:46.610Z"
   },
   {
    "duration": 42,
    "start_time": "2023-04-15T21:54:46.647Z"
   },
   {
    "duration": 149,
    "start_time": "2023-04-15T21:54:46.691Z"
   },
   {
    "duration": 104,
    "start_time": "2023-04-15T21:54:46.842Z"
   },
   {
    "duration": 99,
    "start_time": "2023-04-15T21:54:46.948Z"
   },
   {
    "duration": 91,
    "start_time": "2023-04-15T21:54:47.048Z"
   },
   {
    "duration": 207,
    "start_time": "2023-04-15T21:54:47.140Z"
   },
   {
    "duration": 0,
    "start_time": "2023-04-15T21:54:47.350Z"
   },
   {
    "duration": 0,
    "start_time": "2023-04-15T21:54:47.351Z"
   },
   {
    "duration": 0,
    "start_time": "2023-04-15T21:54:47.352Z"
   },
   {
    "duration": 0,
    "start_time": "2023-04-15T21:54:47.354Z"
   },
   {
    "duration": 0,
    "start_time": "2023-04-15T21:54:47.355Z"
   },
   {
    "duration": 0,
    "start_time": "2023-04-15T21:54:47.356Z"
   },
   {
    "duration": 0,
    "start_time": "2023-04-15T21:54:47.358Z"
   },
   {
    "duration": 0,
    "start_time": "2023-04-15T21:54:47.359Z"
   },
   {
    "duration": 0,
    "start_time": "2023-04-15T21:54:47.360Z"
   },
   {
    "duration": 332,
    "start_time": "2023-04-15T21:57:14.446Z"
   },
   {
    "duration": 9,
    "start_time": "2023-04-15T21:57:37.132Z"
   },
   {
    "duration": 3389,
    "start_time": "2023-04-15T21:57:43.200Z"
   },
   {
    "duration": 8,
    "start_time": "2023-04-15T21:57:52.804Z"
   },
   {
    "duration": 3771,
    "start_time": "2023-04-15T21:58:10.913Z"
   },
   {
    "duration": 3495,
    "start_time": "2023-04-15T21:58:50.307Z"
   },
   {
    "duration": 3715,
    "start_time": "2023-04-15T21:58:59.069Z"
   },
   {
    "duration": 3557,
    "start_time": "2023-04-15T22:00:24.713Z"
   },
   {
    "duration": 3409,
    "start_time": "2023-04-15T22:01:04.264Z"
   },
   {
    "duration": 3430,
    "start_time": "2023-04-15T22:01:38.207Z"
   },
   {
    "duration": 5473,
    "start_time": "2023-04-16T18:26:36.404Z"
   },
   {
    "duration": 1395,
    "start_time": "2023-04-16T18:26:41.880Z"
   },
   {
    "duration": 34,
    "start_time": "2023-04-16T18:26:43.276Z"
   },
   {
    "duration": 21,
    "start_time": "2023-04-16T18:26:43.312Z"
   },
   {
    "duration": 89,
    "start_time": "2023-04-16T18:26:43.335Z"
   },
   {
    "duration": 3795,
    "start_time": "2023-04-16T18:26:53.614Z"
   },
   {
    "duration": 470,
    "start_time": "2023-04-16T18:26:57.412Z"
   },
   {
    "duration": 35,
    "start_time": "2023-04-16T18:26:57.885Z"
   },
   {
    "duration": 47,
    "start_time": "2023-04-16T18:26:57.922Z"
   },
   {
    "duration": 64,
    "start_time": "2023-04-16T18:26:57.972Z"
   },
   {
    "duration": 33,
    "start_time": "2023-04-16T18:26:58.038Z"
   },
   {
    "duration": 24,
    "start_time": "2023-04-16T18:26:58.073Z"
   },
   {
    "duration": 83,
    "start_time": "2023-04-16T18:26:58.100Z"
   },
   {
    "duration": 184,
    "start_time": "2023-04-16T18:26:58.184Z"
   },
   {
    "duration": 111,
    "start_time": "2023-04-16T18:26:58.370Z"
   },
   {
    "duration": 95,
    "start_time": "2023-04-16T18:26:58.487Z"
   },
   {
    "duration": 72,
    "start_time": "2023-04-16T18:26:58.586Z"
   },
   {
    "duration": 109,
    "start_time": "2023-04-16T18:26:58.660Z"
   },
   {
    "duration": 4157,
    "start_time": "2023-04-16T18:26:58.773Z"
   },
   {
    "duration": 785,
    "start_time": "2023-04-16T18:27:02.932Z"
   },
   {
    "duration": 0,
    "start_time": "2023-04-16T18:27:03.719Z"
   },
   {
    "duration": 0,
    "start_time": "2023-04-16T18:27:03.719Z"
   },
   {
    "duration": 0,
    "start_time": "2023-04-16T18:27:03.720Z"
   },
   {
    "duration": 0,
    "start_time": "2023-04-16T18:27:03.722Z"
   },
   {
    "duration": 0,
    "start_time": "2023-04-16T18:27:03.723Z"
   },
   {
    "duration": 0,
    "start_time": "2023-04-16T18:27:03.724Z"
   },
   {
    "duration": 0,
    "start_time": "2023-04-16T18:27:03.726Z"
   },
   {
    "duration": 6,
    "start_time": "2023-04-16T18:27:38.286Z"
   },
   {
    "duration": 6,
    "start_time": "2023-04-16T18:27:42.541Z"
   },
   {
    "duration": 4495,
    "start_time": "2023-04-16T18:27:52.332Z"
   },
   {
    "duration": 4309,
    "start_time": "2023-04-16T18:28:36.054Z"
   },
   {
    "duration": 34,
    "start_time": "2023-04-16T18:30:20.413Z"
   },
   {
    "duration": 45,
    "start_time": "2023-04-16T18:31:01.724Z"
   },
   {
    "duration": 6,
    "start_time": "2023-04-16T18:32:00.613Z"
   },
   {
    "duration": 6,
    "start_time": "2023-04-16T18:32:14.071Z"
   },
   {
    "duration": 6,
    "start_time": "2023-04-16T18:32:22.678Z"
   },
   {
    "duration": 9,
    "start_time": "2023-04-16T18:33:55.070Z"
   },
   {
    "duration": 993,
    "start_time": "2023-04-16T18:33:58.113Z"
   },
   {
    "duration": 13,
    "start_time": "2023-04-16T18:34:37.034Z"
   },
   {
    "duration": 20,
    "start_time": "2023-04-16T18:34:43.757Z"
   },
   {
    "duration": 4497,
    "start_time": "2023-04-16T18:35:34.617Z"
   },
   {
    "duration": 3,
    "start_time": "2023-04-16T18:36:31.772Z"
   },
   {
    "duration": 28,
    "start_time": "2023-04-16T18:37:26.862Z"
   },
   {
    "duration": 72,
    "start_time": "2023-04-16T18:38:16.176Z"
   },
   {
    "duration": 20,
    "start_time": "2023-04-16T18:38:34.713Z"
   },
   {
    "duration": 9,
    "start_time": "2023-04-16T18:41:51.719Z"
   },
   {
    "duration": 9,
    "start_time": "2023-04-16T18:42:08.745Z"
   },
   {
    "duration": 4319,
    "start_time": "2023-04-16T18:42:13.372Z"
   },
   {
    "duration": 4439,
    "start_time": "2023-04-16T18:42:37.971Z"
   },
   {
    "duration": 14,
    "start_time": "2023-04-16T18:42:46.728Z"
   },
   {
    "duration": 41,
    "start_time": "2023-04-16T18:44:44.552Z"
   },
   {
    "duration": 11,
    "start_time": "2023-04-16T18:45:02.608Z"
   },
   {
    "duration": 2,
    "start_time": "2023-04-16T18:45:32.115Z"
   },
   {
    "duration": 3417,
    "start_time": "2023-04-16T18:45:42.912Z"
   },
   {
    "duration": 390,
    "start_time": "2023-04-16T18:45:46.331Z"
   },
   {
    "duration": 54,
    "start_time": "2023-04-16T18:45:46.723Z"
   },
   {
    "duration": 20,
    "start_time": "2023-04-16T18:45:46.779Z"
   },
   {
    "duration": 65,
    "start_time": "2023-04-16T18:45:46.801Z"
   },
   {
    "duration": 20,
    "start_time": "2023-04-16T18:45:46.868Z"
   },
   {
    "duration": 21,
    "start_time": "2023-04-16T18:45:46.890Z"
   },
   {
    "duration": 69,
    "start_time": "2023-04-16T18:45:46.913Z"
   },
   {
    "duration": 78,
    "start_time": "2023-04-16T18:45:46.984Z"
   },
   {
    "duration": 101,
    "start_time": "2023-04-16T18:45:47.066Z"
   },
   {
    "duration": 106,
    "start_time": "2023-04-16T18:45:47.169Z"
   },
   {
    "duration": 80,
    "start_time": "2023-04-16T18:45:47.277Z"
   },
   {
    "duration": 10,
    "start_time": "2023-04-16T18:45:47.359Z"
   },
   {
    "duration": 3894,
    "start_time": "2023-04-16T18:45:47.375Z"
   },
   {
    "duration": 110,
    "start_time": "2023-04-16T18:45:51.270Z"
   },
   {
    "duration": 0,
    "start_time": "2023-04-16T18:45:51.381Z"
   },
   {
    "duration": 0,
    "start_time": "2023-04-16T18:45:51.382Z"
   },
   {
    "duration": 2,
    "start_time": "2023-04-16T18:46:06.332Z"
   },
   {
    "duration": 3,
    "start_time": "2023-04-16T18:46:07.546Z"
   },
   {
    "duration": 11,
    "start_time": "2023-04-16T18:46:08.025Z"
   },
   {
    "duration": 3604,
    "start_time": "2023-04-16T18:48:33.745Z"
   },
   {
    "duration": 436,
    "start_time": "2023-04-16T18:48:37.352Z"
   },
   {
    "duration": 32,
    "start_time": "2023-04-16T18:48:37.789Z"
   },
   {
    "duration": 42,
    "start_time": "2023-04-16T18:48:37.822Z"
   },
   {
    "duration": 64,
    "start_time": "2023-04-16T18:48:37.866Z"
   },
   {
    "duration": 43,
    "start_time": "2023-04-16T18:48:37.931Z"
   },
   {
    "duration": 22,
    "start_time": "2023-04-16T18:48:37.976Z"
   },
   {
    "duration": 75,
    "start_time": "2023-04-16T18:48:38.000Z"
   },
   {
    "duration": 180,
    "start_time": "2023-04-16T18:48:38.077Z"
   },
   {
    "duration": 113,
    "start_time": "2023-04-16T18:48:38.258Z"
   },
   {
    "duration": 185,
    "start_time": "2023-04-16T18:48:38.377Z"
   },
   {
    "duration": 9,
    "start_time": "2023-04-16T18:48:38.569Z"
   },
   {
    "duration": 11,
    "start_time": "2023-04-16T18:48:38.659Z"
   },
   {
    "duration": 4353,
    "start_time": "2023-04-16T18:48:38.676Z"
   },
   {
    "duration": 3,
    "start_time": "2023-04-16T18:48:43.031Z"
   },
   {
    "duration": 5,
    "start_time": "2023-04-16T18:48:43.036Z"
   },
   {
    "duration": 30,
    "start_time": "2023-04-16T18:48:43.042Z"
   },
   {
    "duration": 5330,
    "start_time": "2023-04-17T13:38:17.373Z"
   },
   {
    "duration": 416,
    "start_time": "2023-04-17T13:38:22.705Z"
   },
   {
    "duration": 37,
    "start_time": "2023-04-17T13:38:23.122Z"
   },
   {
    "duration": 24,
    "start_time": "2023-04-17T13:38:23.161Z"
   },
   {
    "duration": 61,
    "start_time": "2023-04-17T13:38:23.212Z"
   },
   {
    "duration": 37,
    "start_time": "2023-04-17T13:38:23.275Z"
   },
   {
    "duration": 20,
    "start_time": "2023-04-17T13:38:23.314Z"
   },
   {
    "duration": 50,
    "start_time": "2023-04-17T13:38:23.336Z"
   },
   {
    "duration": 134,
    "start_time": "2023-04-17T13:38:23.388Z"
   },
   {
    "duration": 112,
    "start_time": "2023-04-17T13:38:23.614Z"
   },
   {
    "duration": 192,
    "start_time": "2023-04-17T13:38:23.728Z"
   },
   {
    "duration": 91,
    "start_time": "2023-04-17T13:38:23.922Z"
   },
   {
    "duration": 97,
    "start_time": "2023-04-17T13:38:24.015Z"
   },
   {
    "duration": 4045,
    "start_time": "2023-04-17T13:38:24.114Z"
   },
   {
    "duration": 3,
    "start_time": "2023-04-17T13:38:28.160Z"
   },
   {
    "duration": 4,
    "start_time": "2023-04-17T13:38:28.165Z"
   },
   {
    "duration": 15,
    "start_time": "2023-04-17T13:38:28.171Z"
   },
   {
    "duration": 6,
    "start_time": "2023-04-17T13:38:35.049Z"
   },
   {
    "duration": 6,
    "start_time": "2023-04-17T13:38:40.250Z"
   },
   {
    "duration": 8,
    "start_time": "2023-04-17T13:38:48.968Z"
   },
   {
    "duration": 6,
    "start_time": "2023-04-17T13:38:54.422Z"
   },
   {
    "duration": 60,
    "start_time": "2023-04-18T08:26:12.810Z"
   },
   {
    "duration": 7,
    "start_time": "2023-04-18T10:24:52.246Z"
   }
  ],
  "kernelspec": {
   "display_name": "Python 3 (ipykernel)",
   "language": "python",
   "name": "python3"
  },
  "language_info": {
   "codemirror_mode": {
    "name": "ipython",
    "version": 3
   },
   "file_extension": ".py",
   "mimetype": "text/x-python",
   "name": "python",
   "nbconvert_exporter": "python",
   "pygments_lexer": "ipython3",
   "version": "3.9.13"
  },
  "toc": {
   "base_numbering": 1,
   "nav_menu": {},
   "number_sections": true,
   "sideBar": true,
   "skip_h1_title": true,
   "title_cell": "Table of Contents",
   "title_sidebar": "Contents",
   "toc_cell": false,
   "toc_position": {},
   "toc_section_display": true,
   "toc_window_display": false
  }
 },
 "nbformat": 4,
 "nbformat_minor": 2
}
